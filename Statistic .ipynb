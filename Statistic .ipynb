{
 "cells": [
  {
   "cell_type": "markdown",
   "metadata": {},
   "source": [
    "Hypothesis \n",
    "\n",
    "makinga guess (not vaild guess) based on assunpation without scientific proof or expaling the situation based on assumptions\n",
    "\n",
    "\n",
    "Null Hypthesiss = Ho => decision always leads to status quo. current status and assumaption does not cahnge \n",
    "\n",
    "alternative Hypothesis = Ha > Decisions leads to apposite of Ho"
   ]
  },
  {
   "cell_type": "markdown",
   "metadata": {},
   "source": [
    "Statistical Tools \n",
    "\n",
    "1 Ttest\n",
    "2 ANOVA"
   ]
  },
  {
   "cell_type": "code",
   "execution_count": 4,
   "metadata": {},
   "outputs": [],
   "source": [
    "import pandas as pd \n",
    "#hyp =pd.read_csv('Hypothesis tteset.csv')"
   ]
  },
  {
   "cell_type": "code",
   "execution_count": 6,
   "metadata": {},
   "outputs": [],
   "source": [
    "#hyp.head"
   ]
  },
  {
   "cell_type": "markdown",
   "metadata": {},
   "source": [
    "a teacher wants to teach studetn for a competative exam . she collected sample  of students marks from student school on her past experience \n",
    "she belives that these  types of student swill score more then 60 marks in the exam. Now she wants to test the hypothesis test  on the mark\n"
   ]
  },
  {
   "cell_type": "code",
   "execution_count": 8,
   "metadata": {},
   "outputs": [],
   "source": [
    "#Ho =mu>=60\n",
    "#ha =mu <60\n"
   ]
  },
  {
   "cell_type": "code",
   "execution_count": 9,
   "metadata": {},
   "outputs": [],
   "source": [
    "#hyp['Math2'].mean()"
   ]
  },
  {
   "cell_type": "code",
   "execution_count": 10,
   "metadata": {},
   "outputs": [],
   "source": [
    "#hyp['Math1'].mean()"
   ]
  },
  {
   "cell_type": "code",
   "execution_count": 13,
   "metadata": {},
   "outputs": [],
   "source": [
    "alpha = 0.5\n",
    "xbar = 52.645\n",
    "mu =60"
   ]
  },
  {
   "cell_type": "markdown",
   "metadata": {},
   "source": [
    "# 1 Sample t test"
   ]
  },
  {
   "cell_type": "code",
   "execution_count": 14,
   "metadata": {},
   "outputs": [],
   "source": [
    "import scipy.stats as st\n",
    "# since we are conducting test for one sample we will for isample ttest\n",
    "\n",
    "#st.ttest_isamp(hyp.Math1,mu)\n"
   ]
  },
  {
   "cell_type": "markdown",
   "metadata": {},
   "source": [
    "when you the run ttest we get the 2 values 1 t statistics score 2. pvalue for tail two"
   ]
  },
  {
   "cell_type": "code",
   "execution_count": 16,
   "metadata": {},
   "outputs": [],
   "source": [
    "#lets write thsi way\n",
    "\n",
    "#s,p =st.ttest_isamp(hyp.Math1,mu)"
   ]
  },
  {
   "cell_type": "code",
   "execution_count": 18,
   "metadata": {},
   "outputs": [],
   "source": [
    "#My Pvlues < alpha = reject the null hypothesis Ho"
   ]
  },
  {
   "cell_type": "markdown",
   "metadata": {},
   "source": [
    "# 2. Samples t test"
   ]
  },
  {
   "cell_type": "code",
   "execution_count": 20,
   "metadata": {},
   "outputs": [],
   "source": [
    "#independent samples\n",
    "#paired samples"
   ]
  },
  {
   "cell_type": "code",
   "execution_count": 21,
   "metadata": {},
   "outputs": [],
   "source": [
    "#hyp.head()"
   ]
  },
  {
   "cell_type": "code",
   "execution_count": 37,
   "metadata": {},
   "outputs": [],
   "source": [
    "#hyp['Gender'].value_counts()"
   ]
  },
  {
   "cell_type": "code",
   "execution_count": 38,
   "metadata": {},
   "outputs": [],
   "source": [
    "#how to subset the data on geneder\n",
    "#(hyp[hyp['Gender']==1].Math1,hyp[hype['gender']==0].Math1)"
   ]
  },
  {
   "cell_type": "code",
   "execution_count": 39,
   "metadata": {},
   "outputs": [],
   "source": [
    "#independent samples\n",
    "#t,p =st.ttest_ind(hyp[hyp['gender']==1].math1,hyp[hyp['gender']==0].Math1)"
   ]
  },
  {
   "cell_type": "code",
   "execution_count": 40,
   "metadata": {},
   "outputs": [],
   "source": [
    "#p"
   ]
  },
  {
   "cell_type": "code",
   "execution_count": 41,
   "metadata": {},
   "outputs": [],
   "source": [
    "#paired samples\n",
    "#t,p=st.ttest_rel(hyp.Math1,hyp.math2)"
   ]
  },
  {
   "cell_type": "code",
   "execution_count": 42,
   "metadata": {},
   "outputs": [],
   "source": [
    "#p"
   ]
  },
  {
   "cell_type": "code",
   "execution_count": 43,
   "metadata": {},
   "outputs": [],
   "source": [
    "#pvalue<alpha == reject\n",
    "\n",
    "# 0.17<0.05 = accept here p value is grater then alpha so we acccept "
   ]
  },
  {
   "cell_type": "markdown",
   "metadata": {},
   "source": [
    "# ANOVA (analysis of variance)"
   ]
  },
  {
   "cell_type": "markdown",
   "metadata": {},
   "source": [
    "ANOVA is used to compare difference means more than 2 groups. it does this looking at the vaiance in the data ans where that vaiation is found \n",
    "(Hence its name ).speecifically Anova compares the amount of variation between gruops the amount varition within groups\n",
    "\n",
    "==> Null hypothesis typically is that, all means are equal.\n",
    "==> The independent variables are categorical\n",
    "==> Dependent variable are continues\n",
    "\n",
    "F value \n",
    "\n",
    "F= smaple means of between group /smaple means of within groups \n",
    "\n",
    "\n",
    "\n"
   ]
  },
  {
   "cell_type": "markdown",
   "metadata": {},
   "source": [
    "partition  the total variaation in the data into variance between groups and  variance within groups \n",
    "\n",
    "Hypothesis construction\n",
    "\n",
    "ANOVA Hypothesis - The null hypothesis for anova says that, avaerage of dependent variable  are some for \n",
    "all given  groups .\n",
    "\n",
    "alternate hypothesis says , mean of dependent variables are not same  for the given groups \n",
    "\n",
    "-Ho : MuA = MuB =MuC\n",
    "-Ha : not all are equal"
   ]
  },
  {
   "cell_type": "markdown",
   "metadata": {},
   "source": [
    "#step 1 (calculate the means of each school)\n",
    "\n",
    "school_a =df['A'].mean()\n",
    "school_a =df['B'].mean()\n",
    "school_a =df['C'].mean()\n",
    "print('Shcool A ===>', round(school_a,2))\n",
    "print(\"School B ==> \", round (school_b,2))\n",
    "print(\"school C===>\", round(school_c,2))"
   ]
  },
  {
   "cell_type": "markdown",
   "metadata": {},
   "source": [
    "#step 2 (calculate the grand mean)\n",
    "shcool_grand = (school_b + school_c+chool_A)/3\n",
    "print('Grnad mean ====>', round(shcool_grand,2))"
   ]
  },
  {
   "cell_type": "markdown",
   "metadata": {},
   "source": [
    "# step 3 variation between, within and total \n",
    "#sum of squared(ss) devaition about grand mean \n",
    "#i.e sum of (71.44 -1st instance )**2 upto (71.44 last insatance)**2 and each squared \n",
    "## SS_total\n",
    "#(71.44 -82)**2 +(71.44 -83)**2 + (71.44 -97)**2 +\n",
    ".........................\n",
    "..........................\n",
    "#ss_within \n",
    "(87.3 -82)**2 + (87.3 -83)**2 +(87.3 -97)**2+\n",
    ".........................\n",
    ".......................\n",
    "\n",
    "#SS_between\n",
    "\n",
    "\n",
    "\n",
    "\n",
    "\n",
    "\n",
    "\n"
   ]
  },
  {
   "cell_type": "markdown",
   "metadata": {},
   "source": [
    "import statsmodels.formula.api as sm \n",
    "mod =sm.ols('Math1~Prog', data =hyp).fit()\n",
    "import statsmodels.api as k\n",
    "aov_table =k.stats.anova_lm(mod)\n",
    "aov_table"
   ]
  },
  {
   "cell_type": "code",
   "execution_count": 44,
   "metadata": {},
   "outputs": [],
   "source": [
    "#porg = between\n",
    "#residual = within\n",
    "#sum_sq =sum(mean -X)*2\n",
    "#prog. mean_sq =ss_betwee/df_between\n",
    "#residual mean sq\n",
    "\n"
   ]
  },
  {
   "cell_type": "code",
   "execution_count": null,
   "metadata": {},
   "outputs": [],
   "source": []
  },
  {
   "cell_type": "code",
   "execution_count": null,
   "metadata": {},
   "outputs": [],
   "source": []
  },
  {
   "cell_type": "code",
   "execution_count": null,
   "metadata": {},
   "outputs": [],
   "source": []
  },
  {
   "cell_type": "code",
   "execution_count": null,
   "metadata": {},
   "outputs": [],
   "source": []
  },
  {
   "cell_type": "code",
   "execution_count": null,
   "metadata": {},
   "outputs": [],
   "source": []
  },
  {
   "cell_type": "code",
   "execution_count": null,
   "metadata": {},
   "outputs": [],
   "source": []
  },
  {
   "cell_type": "code",
   "execution_count": null,
   "metadata": {},
   "outputs": [],
   "source": []
  },
  {
   "cell_type": "code",
   "execution_count": null,
   "metadata": {},
   "outputs": [],
   "source": []
  },
  {
   "cell_type": "code",
   "execution_count": null,
   "metadata": {},
   "outputs": [],
   "source": []
  },
  {
   "cell_type": "code",
   "execution_count": null,
   "metadata": {},
   "outputs": [],
   "source": []
  },
  {
   "cell_type": "markdown",
   "metadata": {},
   "source": [
    "# confusion matrix"
   ]
  },
  {
   "cell_type": "code",
   "execution_count": null,
   "metadata": {},
   "outputs": [],
   "source": []
  },
  {
   "cell_type": "code",
   "execution_count": null,
   "metadata": {},
   "outputs": [],
   "source": []
  },
  {
   "cell_type": "code",
   "execution_count": null,
   "metadata": {},
   "outputs": [],
   "source": []
  },
  {
   "cell_type": "code",
   "execution_count": null,
   "metadata": {},
   "outputs": [],
   "source": []
  },
  {
   "cell_type": "code",
   "execution_count": null,
   "metadata": {},
   "outputs": [],
   "source": []
  },
  {
   "cell_type": "code",
   "execution_count": null,
   "metadata": {},
   "outputs": [],
   "source": []
  },
  {
   "cell_type": "code",
   "execution_count": null,
   "metadata": {},
   "outputs": [],
   "source": []
  }
 ],
 "metadata": {
  "kernelspec": {
   "display_name": "Python 3",
   "language": "python",
   "name": "python3"
  },
  "language_info": {
   "codemirror_mode": {
    "name": "ipython",
    "version": 3
   },
   "file_extension": ".py",
   "mimetype": "text/x-python",
   "name": "python",
   "nbconvert_exporter": "python",
   "pygments_lexer": "ipython3",
   "version": "3.7.3"
  }
 },
 "nbformat": 4,
 "nbformat_minor": 2
}
