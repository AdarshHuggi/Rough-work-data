{
 "cells": [
  {
   "cell_type": "code",
   "execution_count": 11,
   "metadata": {},
   "outputs": [],
   "source": [
    "import pandas as pd\n",
    "from selenium import webdriver\n",
    "import time "
   ]
  },
  {
   "cell_type": "code",
   "execution_count": null,
   "metadata": {},
   "outputs": [],
   "source": [
    "driver =webdriver.Chrome(\"chromedriver.exe\")\n",
    "time.sleep(2)\n",
    "driver.get(\"https://www.flipkart.com/search?q=phones&otracker=search&otracker1=search&marketplace=FLIPKART&as-show=on&as=off\")\n"
   ]
  },
  {
   "cell_type": "code",
   "execution_count": null,
   "metadata": {},
   "outputs": [],
   "source": []
  },
  {
   "cell_type": "markdown",
   "metadata": {},
   "source": [
    "#Fetching phone name for 3 pages"
   ]
  },
  {
   "cell_type": "code",
   "execution_count": 12,
   "metadata": {},
   "outputs": [],
   "source": [
    "#first page\n"
   ]
  },
  {
   "cell_type": "code",
   "execution_count": 13,
   "metadata": {},
   "outputs": [
    {
     "data": {
      "text/plain": [
       "[]"
      ]
     },
     "execution_count": 13,
     "metadata": {},
     "output_type": "execute_result"
    }
   ],
   "source": [
    "phone_name =[]\n",
    "phone_elements =driver.find_elements_by_xpath(\"//div[@class='_4rR01T']\")\n",
    "for i in phone_elements:\n",
    "    phone_name.append(i.text)\n",
    "    \n",
    "phone_name"
   ]
  },
  {
   "cell_type": "code",
   "execution_count": null,
   "metadata": {},
   "outputs": [],
   "source": []
  },
  {
   "cell_type": "code",
   "execution_count": 14,
   "metadata": {},
   "outputs": [
    {
     "data": {
      "text/plain": [
       "[]"
      ]
     },
     "execution_count": 14,
     "metadata": {},
     "output_type": "execute_result"
    }
   ],
   "source": [
    "#fetching image Url\n",
    "#xpath(//div[@class = '_3ply-c row']/div[2] ) # if you wants to go second div  directly write div[2]\n",
    "\n",
    "image_url = []\n",
    "for i in driver.find_elements_by_xpath(\"//div[@class='_2QcLo-']/div/div/img\"):\n",
    "    image_url.append(i.get_attribute('src'))\n",
    "    \n",
    "image_url"
   ]
  },
  {
   "cell_type": "code",
   "execution_count": 15,
   "metadata": {},
   "outputs": [],
   "source": [
    "#Fetch the ten page data scientist URL link  job list"
   ]
  },
  {
   "cell_type": "code",
   "execution_count": 16,
   "metadata": {},
   "outputs": [],
   "source": [
    "driver.get(\"https://www.naukri.com/data-scientist-jobs?k=data%20scientist\")\n"
   ]
  },
  {
   "cell_type": "code",
   "execution_count": 22,
   "metadata": {},
   "outputs": [
    {
     "data": {
      "text/plain": [
       "['https://www.naukri.com/data-scientist-jobs-3',\n",
       " 'https://www.naukri.com/data-scientist-jobs',\n",
       " 'https://www.naukri.com/data-scientist-jobs-2',\n",
       " 'https://www.naukri.com/data-scientist-jobs-3',\n",
       " 'https://www.naukri.com/data-scientist-jobs-4',\n",
       " 'https://www.naukri.com/data-scientist-jobs-5',\n",
       " 'https://www.naukri.com/data-scientist-jobs-6',\n",
       " 'https://www.naukri.com/data-scientist-jobs-7',\n",
       " 'https://www.naukri.com/data-scientist-jobs-8',\n",
       " 'https://www.naukri.com/data-scientist-jobs-9',\n",
       " 'https://www.naukri.com/data-scientist-jobs-10',\n",
       " 'https://www.naukri.com/data-scientist-jobs-5']"
      ]
     },
     "execution_count": 22,
     "metadata": {},
     "output_type": "execute_result"
    }
   ],
   "source": [
    "page_url = []\n",
    "for i in driver.find_elements_by_xpath(\"//div[@class='pagination mt-64 mb-60']//a\"):\n",
    "    page_url.append(i.get_attribute('href'))\n",
    "    \n",
    "page_url\n"
   ]
  },
  {
   "cell_type": "code",
   "execution_count": 18,
   "metadata": {},
   "outputs": [],
   "source": [
    "driver.get(\"https://www.naukri.com/data-scientist-jobs?k=data%20scientist\")"
   ]
  },
  {
   "cell_type": "code",
   "execution_count": null,
   "metadata": {},
   "outputs": [],
   "source": [
    "#exception block web scrap \n",
    "for i in range(2):\n",
    "    try:\n",
    "        driver.find_element_by_xpath(\"//a[@class='fright fs14 btn-secondary br2']\").click()\n",
    "    except:\n",
    "        driver.find_element_by_xpath(\"//a[@class='fright fs14 btn-secondary br2']/span\").click()\n",
    "    time.sleep(5)"
   ]
  },
  {
   "cell_type": "code",
   "execution_count": 30,
   "metadata": {},
   "outputs": [
    {
     "data": {
      "text/plain": [
       "[]"
      ]
     },
     "execution_count": 30,
     "metadata": {},
     "output_type": "execute_result"
    }
   ],
   "source": [
    "job_title =[]\n",
    "job_title "
   ]
  },
  {
   "cell_type": "code",
   "execution_count": 36,
   "metadata": {},
   "outputs": [],
   "source": [
    "#fetch the job title for 10 pages\n",
    "\n",
    "for i in range(10):\n",
    "    for j in driver.find_elements_by_xpath(\"//a[@class='title fw500 ellipsis']\"):\n",
    "        job_title.append(j.text)\n",
    "        \n",
    "    try:\n",
    "        driver.find_element_by_xpath(\"//a[@class='fright fs14 btn-secondary br2']\").click()\n",
    "    except:\n",
    "        driver.find_element_by_xpath(\"//a[@class='fright fs14 btn-secondary br2']/span\").click()\n",
    "    time.sleep(5)"
   ]
  },
  {
   "cell_type": "code",
   "execution_count": 37,
   "metadata": {},
   "outputs": [
    {
     "data": {
      "text/plain": [
       "['Data Scientist',\n",
       " 'Data Scientist',\n",
       " 'Data Scientist - 2',\n",
       " 'NLP - Data Scientist',\n",
       " 'Data Scientist',\n",
       " 'Senior Scientist/NLP/Machine Learning/Data Mining Professional',\n",
       " 'Data Scientist - Climate Change : ISS Mumbai',\n",
       " 'Data Scientist',\n",
       " 'Data Scientist',\n",
       " 'Data Scientist',\n",
       " 'Data Scientist For US based IT company-Gurgaon',\n",
       " 'Data Scientist',\n",
       " 'Data Scientist - Multi Objective Optimisation (Remote)',\n",
       " 'Data Scientist (Python|Hadoop)',\n",
       " 'Data Scientist / Marketing Analytics - Automobile',\n",
       " 'Data Scientist II SS Supply Chain Solutions Pvt Ltd II Pune',\n",
       " 'Data Scientist',\n",
       " 'Data Scientist (m/f)',\n",
       " 'Immediate opening For Lead Data Scientist with am MNC For Pune/Bang',\n",
       " 'Senior Data Scientist: Computer Vision/Image Analytics',\n",
       " 'Senior Data Scientist',\n",
       " 'Senior Data Scientist',\n",
       " 'Senior Data Scientist (Applied Scientist)',\n",
       " 'Senior Data Scientist',\n",
       " 'Senior Data Scientist',\n",
       " 'Senior Data Scientist',\n",
       " 'Senior Data Scientist',\n",
       " 'Sr Data Scientist',\n",
       " 'Sr. Data Scientist',\n",
       " 'Senior Data Scientist',\n",
       " 'Senior Data Scientist',\n",
       " 'Senior Data Scientist',\n",
       " 'Senior Data Scientist',\n",
       " 'Senior Data Scientist',\n",
       " 'Senior Data Scientist - Hyderabad',\n",
       " 'Senior Data Scientist - Hyderabad',\n",
       " 'Sr . Data Scientist',\n",
       " 'Senior Data Scientist Opportunity (Remote) @ FourKites, Chennai',\n",
       " 'Senior Data Scientist',\n",
       " 'Senior Data Scientist',\n",
       " 'Senior Data Scientist',\n",
       " 'Senior Data Scientist',\n",
       " 'Senior Data Scientist (Applied Scientist)',\n",
       " 'Senior Data Scientist',\n",
       " 'Senior Data Scientist',\n",
       " 'Senior Data Scientist',\n",
       " 'Senior Data Scientist',\n",
       " 'Sr Data Scientist',\n",
       " 'Sr. Data Scientist',\n",
       " 'Senior Data Scientist',\n",
       " 'Senior Data Scientist',\n",
       " 'Senior Data Scientist',\n",
       " 'Senior Data Scientist',\n",
       " 'Senior Data Scientist',\n",
       " 'Senior Data Scientist - Hyderabad',\n",
       " 'Senior Data Scientist - Hyderabad',\n",
       " 'Sr . Data Scientist',\n",
       " 'Senior Data Scientist Opportunity (Remote) @ FourKites, Chennai',\n",
       " 'Senior Data Scientist',\n",
       " 'Senior Data Scientist',\n",
       " 'Data Scientist',\n",
       " 'Big Data Scientist - Contract To Hire- Big 4',\n",
       " 'Data Scientist',\n",
       " 'Principal Data Scientist',\n",
       " 'Principal Data Scientist',\n",
       " 'Hiring For Data Scientist @ Prodapt Solutions',\n",
       " 'Data Scientist with CPG/Retail with product recommendation experience',\n",
       " 'Data Scientist (NLP, Hadoop, Python), 35 LPA, Bangalore',\n",
       " 'Opportunity For Principle Data Scientist',\n",
       " 'Data Scientist: Advanced Analytics',\n",
       " 'Data Scientist: Advanced Analytics',\n",
       " 'Data Scientist Machine Learning',\n",
       " 'Data Scientist: Artificial Intelligence',\n",
       " 'Data Scientist: Artificial Intelligence',\n",
       " 'Ecosystem Junior Data Scientist',\n",
       " 'Junior Data Scientist',\n",
       " 'Junior Data Scientist',\n",
       " 'Data Scientist :: Analytics Based MNC :: Gurgaon',\n",
       " 'Data Scientist (IoT) - Product Based IT MNC, Bopodi, Pune',\n",
       " 'Data Scientist :: Analytics Based MNC :: Gurgaon',\n",
       " 'Data Scientist',\n",
       " 'Data Scientist',\n",
       " 'Machine Learning - Data Scientist',\n",
       " 'Data Scientist & Business Development',\n",
       " 'Data Scientist',\n",
       " 'Data Scientist',\n",
       " 'Data Scientist',\n",
       " 'Data Scientist',\n",
       " 'Data Scientist-Linedata (Mumbai Location)',\n",
       " 'Career Opportunity For Data Scientist Role with AIRA MATRIX_Mumbai',\n",
       " 'Data Scientist',\n",
       " 'Data Scientist - Python/sas/r',\n",
       " 'Data Scientist I',\n",
       " 'Manager Data Scientist - Machine Learning/NLP/NLU/Python',\n",
       " 'Data Scientist',\n",
       " 'Data Scientist Level I',\n",
       " 'Data Scientist',\n",
       " 'Data Scientist',\n",
       " 'Data Scientist',\n",
       " 'Data Scientist - Noida',\n",
       " 'Data Scientist',\n",
       " 'Data Scientist',\n",
       " 'Machine Learning - Data Scientist',\n",
       " 'Data Scientist & Business Development',\n",
       " 'Data Scientist',\n",
       " 'Data Scientist',\n",
       " 'Data Scientist',\n",
       " 'Data Scientist',\n",
       " 'Data Scientist-Linedata (Mumbai Location)',\n",
       " 'Career Opportunity For Data Scientist Role with AIRA MATRIX_Mumbai',\n",
       " 'Data Scientist',\n",
       " 'Data Scientist - Python/sas/r',\n",
       " 'Data Scientist I',\n",
       " 'Manager Data Scientist - Machine Learning/NLP/NLU/Python',\n",
       " 'Data Scientist',\n",
       " 'Data Scientist Level I',\n",
       " 'Data Scientist',\n",
       " 'Data Scientist',\n",
       " 'Data Scientist',\n",
       " 'Data Scientist - Noida',\n",
       " 'Data Scientist - Noida',\n",
       " 'Data Scientist',\n",
       " 'Data Scientist',\n",
       " 'Data Scientist',\n",
       " 'Data Scientist',\n",
       " 'Data Scientist',\n",
       " 'Data Scientist',\n",
       " 'Data Scientist',\n",
       " 'Data Scientist',\n",
       " 'DATA SCIENTIST',\n",
       " 'Data Scientist - IT',\n",
       " 'Data Scientist',\n",
       " 'Data Scientist',\n",
       " 'Data Scientist - Innovations',\n",
       " 'Data Scientist',\n",
       " 'Data Scientist',\n",
       " 'Data Scientist',\n",
       " 'DATA SCIENTIST',\n",
       " 'Data Scientist',\n",
       " 'Data Scientist',\n",
       " 'Data Scientist',\n",
       " 'Data Scientist',\n",
       " 'Principal Data Scientist',\n",
       " 'Data Scientist, Pratham Digital',\n",
       " 'data scientist',\n",
       " 'Data Scientist',\n",
       " 'Data Scientist',\n",
       " 'Principal Data Scientist',\n",
       " 'Data Scientist',\n",
       " 'Data Scientist',\n",
       " 'Data scientist',\n",
       " 'Data Scientist',\n",
       " 'Data Scientist',\n",
       " 'Data Scientist in a global pharma machine mfg co',\n",
       " 'Data Scientist',\n",
       " 'Data Scientist',\n",
       " 'Data Scientist',\n",
       " 'Data Scientist',\n",
       " 'Looking For Data Scientist - Work from Home',\n",
       " 'Data Scientist| Hyderabad',\n",
       " 'DATA ARCHITECT/DATA SCIENTIST',\n",
       " 'Principal Data Scientist',\n",
       " 'Data Scientist',\n",
       " 'Data Scientist',\n",
       " 'Data Scientist',\n",
       " 'Data Scientist',\n",
       " 'Data Scientist',\n",
       " 'Data Scientist',\n",
       " 'Data Scientist',\n",
       " 'Principal Data Scientist',\n",
       " 'Analytics India Magazine - Data Scientist',\n",
       " 'Data Scientist',\n",
       " 'data scientist - biotechnology Jobs',\n",
       " 'Data Scientist',\n",
       " 'Driveline Data Scientist',\n",
       " 'Data Scientist',\n",
       " 'Data Scientist - Healthcare',\n",
       " 'Data Scientist',\n",
       " 'Data Scientist',\n",
       " 'Data Scientist - (Work from Home) - E commerce Manufacturer',\n",
       " 'DATA ARCHITECT/DATA SCIENTIST',\n",
       " 'Principal Data Scientist',\n",
       " 'Data Scientist',\n",
       " 'Data Scientist',\n",
       " 'Data Scientist',\n",
       " 'Data Scientist',\n",
       " 'Data Scientist',\n",
       " 'Data Scientist',\n",
       " 'Data Scientist',\n",
       " 'Principal Data Scientist',\n",
       " 'Analytics India Magazine - Data Scientist',\n",
       " 'Data Scientist',\n",
       " 'data scientist - biotechnology Jobs',\n",
       " 'Data Scientist',\n",
       " 'Driveline Data Scientist',\n",
       " 'Data Scientist',\n",
       " 'Data Scientist - Healthcare',\n",
       " 'Data Scientist',\n",
       " 'Data Scientist',\n",
       " 'Data Scientist - (Work from Home) - E commerce Manufacturer',\n",
       " 'Data Scientist',\n",
       " 'Data Scientist',\n",
       " 'Principal Data Scientist',\n",
       " 'Data Scientist - Machine Learning',\n",
       " 'Data Scientist',\n",
       " 'Data Scientist',\n",
       " 'Data Scientist R C Python',\n",
       " 'Data Scientist',\n",
       " 'Data Scientist',\n",
       " 'Data Scientist',\n",
       " 'Python Data Scientist',\n",
       " 'Data Scientist',\n",
       " 'Data Scientist',\n",
       " 'Data Scientist',\n",
       " 'Machine Learning Developer - Data Scientist',\n",
       " 'Requirement of Data Scientist - Mortgage Finance',\n",
       " 'Manager Data Scientist',\n",
       " 'Data Scientist',\n",
       " 'Data Scientist',\n",
       " 'Data Scientist',\n",
       " 'Data Scientist',\n",
       " 'Data Scientist',\n",
       " 'Principal Data Scientist',\n",
       " 'Data Scientist - Machine Learning',\n",
       " 'Data Scientist',\n",
       " 'Data Scientist',\n",
       " 'Data Scientist R C Python',\n",
       " 'Data Scientist',\n",
       " 'Data Scientist',\n",
       " 'Data Scientist',\n",
       " 'Python Data Scientist',\n",
       " 'Data Scientist',\n",
       " 'Data Scientist',\n",
       " 'Data Scientist',\n",
       " 'Machine Learning Developer - Data Scientist',\n",
       " 'Requirement of Data Scientist - Mortgage Finance',\n",
       " 'Manager Data Scientist',\n",
       " 'Data Scientist',\n",
       " 'Data Scientist',\n",
       " 'Data Scientist',\n",
       " 'Data Scientist',\n",
       " 'Data Scientist',\n",
       " 'Position Data Scientist',\n",
       " 'Data Scientist',\n",
       " 'Data Scientist',\n",
       " 'Data Scientist',\n",
       " 'Machine Learning Developer / Data Scientist',\n",
       " 'Data Scientist -',\n",
       " 'Data Scientist - CrossTab IT Consulting',\n",
       " 'Data Scientist',\n",
       " 'Specialist data scientist',\n",
       " 'Data scientist / Developer',\n",
       " 'Customer Facing Data Scientist',\n",
       " 'Data Scientist',\n",
       " 'Data Scientist',\n",
       " 'Data Scientist',\n",
       " 'Data Scientist',\n",
       " 'Data Scientist',\n",
       " 'A Data Scientists',\n",
       " 'Data Scientist',\n",
       " 'Data Scientist',\n",
       " 'Data Scientist',\n",
       " 'Position Data Scientist',\n",
       " 'Data Scientist',\n",
       " 'Data Scientist',\n",
       " 'Data Scientist',\n",
       " 'Machine Learning Developer / Data Scientist',\n",
       " 'Data Scientist -',\n",
       " 'Data Scientist - CrossTab IT Consulting',\n",
       " 'Data Scientist',\n",
       " 'Specialist data scientist',\n",
       " 'Data scientist / Developer',\n",
       " 'Customer Facing Data Scientist',\n",
       " 'Data Scientist',\n",
       " 'Data Scientist',\n",
       " 'Data Scientist',\n",
       " 'Data Scientist',\n",
       " 'Data Scientist',\n",
       " 'A Data Scientists',\n",
       " 'Data Scientist']"
      ]
     },
     "execution_count": 37,
     "metadata": {},
     "output_type": "execute_result"
    }
   ],
   "source": [
    "job_title "
   ]
  },
  {
   "cell_type": "code",
   "execution_count": null,
   "metadata": {},
   "outputs": [],
   "source": [
    "urls =[]\n",
    "for i in driver.find_elements_by_xpath(\"//a[@class='_1fQZEK']\"):\n",
    "    urls.append(i.get_attribute('href'))\n",
    "urls"
   ]
  },
  {
   "cell_type": "code",
   "execution_count": null,
   "metadata": {},
   "outputs": [],
   "source": [
    "for i in urls[0:4]: #up to 4 page\n",
    "    driver.get(i)\n",
    "    time.sleep(3)"
   ]
  },
  {
   "cell_type": "code",
   "execution_count": null,
   "metadata": {},
   "outputs": [],
   "source": [
    "Job_list =[]\n",
    "for i in Job_title:\n",
    "    Job_list.append(i.text)\n",
    "\n",
    "Job_list"
   ]
  },
  {
   "cell_type": "code",
   "execution_count": null,
   "metadata": {},
   "outputs": [],
   "source": [
    "# to scrap the page form 0 to 25\n",
    "\n",
    "for i in range(0,25):\n",
    "    job_titles = __________________\n",
    "    for i  ________________-\n",
    "    next_button =driver.find_elements_by_xpath(\"//a[@class='frigh fs14 btn-seconday br2']\")\n",
    "    next_button.click()"
   ]
  },
  {
   "cell_type": "code",
   "execution_count": null,
   "metadata": {},
   "outputs": [],
   "source": [
    "page_urls =[]\n",
    "\n",
    "\n",
    "url = driver.find_elements_by_xpath(\"//a[@class='title fw500 ellipsis']\")\n",
    "for i in url:\n",
    "    page_urls.append(i.get_attribute('href'))\n",
    "page_urls"
   ]
  },
  {
   "cell_type": "code",
   "execution_count": null,
   "metadata": {},
   "outputs": [],
   "source": [
    "job_titles =[]\n",
    "for i in page_urls:\n",
    "    driver.get(i)\n",
    "    titles_tags=driver.find_elements_by_xpath(\"//a[@calss ='title fw500 ellipsis']\")\n",
    "    for i in titles_tags:\n",
    "        job_titles.append(i.text)"
   ]
  },
  {
   "cell_type": "code",
   "execution_count": null,
   "metadata": {},
   "outputs": [],
   "source": [
    "#So lets extract the all tags having job titles\n",
    "\n",
    "title_tags =driver.find_elements_by_xpath(\"//h1[@class='jd-header-title']\")  \n",
    "    job_titles = []\n"
   ]
  },
  {
   "cell_type": "code",
   "execution_count": null,
   "metadata": {},
   "outputs": [],
   "source": [
    "#do click using class name function\n",
    "\n",
    "#search_btn =driver.find_element_by_class_name(\"btn\")\n",
    "#search_btn.click()"
   ]
  },
  {
   "cell_type": "code",
   "execution_count": null,
   "metadata": {},
   "outputs": [],
   "source": []
  }
 ],
 "metadata": {
  "kernelspec": {
   "display_name": "Python 3",
   "language": "python",
   "name": "python3"
  },
  "language_info": {
   "codemirror_mode": {
    "name": "ipython",
    "version": 3
   },
   "file_extension": ".py",
   "mimetype": "text/x-python",
   "name": "python",
   "nbconvert_exporter": "python",
   "pygments_lexer": "ipython3",
   "version": "3.7.3"
  }
 },
 "nbformat": 4,
 "nbformat_minor": 2
}
