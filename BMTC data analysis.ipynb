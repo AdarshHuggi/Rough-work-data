{
 "cells": [
  {
   "cell_type": "code",
   "execution_count": 49,
   "metadata": {},
   "outputs": [],
   "source": [
    "import pandas as pd\n",
    "import numpy as np"
   ]
  },
  {
   "cell_type": "code",
   "execution_count": 50,
   "metadata": {},
   "outputs": [
    {
     "data": {
      "text/html": [
       "<div>\n",
       "<style scoped>\n",
       "    .dataframe tbody tr th:only-of-type {\n",
       "        vertical-align: middle;\n",
       "    }\n",
       "\n",
       "    .dataframe tbody tr th {\n",
       "        vertical-align: top;\n",
       "    }\n",
       "\n",
       "    .dataframe thead th {\n",
       "        text-align: right;\n",
       "    }\n",
       "</style>\n",
       "<table border=\"1\" class=\"dataframe\">\n",
       "  <thead>\n",
       "    <tr style=\"text-align: right;\">\n",
       "      <th></th>\n",
       "      <th>route_no</th>\n",
       "      <th>distance</th>\n",
       "      <th>origin</th>\n",
       "      <th>destination</th>\n",
       "      <th>map_link</th>\n",
       "      <th>busstops_link</th>\n",
       "      <th>time</th>\n",
       "      <th>map_json_content</th>\n",
       "      <th>departure_from_origin</th>\n",
       "      <th>arrival_at_destination</th>\n",
       "      <th>departure_from_destination</th>\n",
       "      <th>arrival_at_origin</th>\n",
       "    </tr>\n",
       "  </thead>\n",
       "  <tbody>\n",
       "    <tr>\n",
       "      <th>0</th>\n",
       "      <td>1</td>\n",
       "      <td>19.6 KM</td>\n",
       "      <td>Jayanagara 9th Block</td>\n",
       "      <td>Yeshwanathapura new railway station</td>\n",
       "      <td>http://www.mybmtc.com/tripplanner/route/locati...</td>\n",
       "      <td>http://www.mybmtc.com/route/busstops/1968/prin...</td>\n",
       "      <td>01:25 Min.</td>\n",
       "      <td>[{\"busstop\": \"Jayanagara 9th Block,JAYANAGARA ...</td>\n",
       "      <td>07:35,  08:15,  08:55,  10:40,  11:20,  12:00,...</td>\n",
       "      <td>08:50,  09:30,  10:10,  11:55,  12:35,  13:15,...</td>\n",
       "      <td>08:55, 09:35, 10:40, 12:00, 12:40, 13:20, 14:4...</td>\n",
       "      <td>10:10, 10:50, 11:55, 13:15, 13:55, 14:35, 15:5...</td>\n",
       "    </tr>\n",
       "    <tr>\n",
       "      <th>1</th>\n",
       "      <td>1E</td>\n",
       "      <td>20.8 KM</td>\n",
       "      <td>JPNagara 6th Phase</td>\n",
       "      <td>Chowdeshwari Bus Stand JP Park</td>\n",
       "      <td>http://www.mybmtc.com/tripplanner/route/locati...</td>\n",
       "      <td>http://www.mybmtc.com/route/busstops/906/print...</td>\n",
       "      <td>01:45 Min.</td>\n",
       "      <td>[{\"busstop\": \"JPNagara 6th Phase,JP NAGARA 6TH...</td>\n",
       "      <td>07:20,  10:45,  17:30,  21:00</td>\n",
       "      <td>08:45,  12:20,  18:55,  22:25</td>\n",
       "      <td>05:30, 08:50, 15:35, 19:00</td>\n",
       "      <td>07:15, 10:15, 17:00, 20:30</td>\n",
       "    </tr>\n",
       "    <tr>\n",
       "      <th>2</th>\n",
       "      <td>1F</td>\n",
       "      <td>11.5 KM</td>\n",
       "      <td>BTM Layout</td>\n",
       "      <td>Krishnarajendra Market</td>\n",
       "      <td>http://www.mybmtc.com/tripplanner/route/locati...</td>\n",
       "      <td>http://www.mybmtc.com/route/busstops/1157/prin...</td>\n",
       "      <td>00:50 Min.</td>\n",
       "      <td>[{\"busstop\": \"BTM Layout,BTM Layout 2nd Stage,...</td>\n",
       "      <td>08:20,  10:10,  12:25,  14:15,  16:25,  18:10</td>\n",
       "      <td>09:10,  11:00,  13:15,  15:05,  17:10,  19:00</td>\n",
       "      <td>09:15, 11:30, 13:20, 15:10, 17:15, 19:05</td>\n",
       "      <td>10:05, 12:20, 14:10, 15:55, 18:05, 19:55</td>\n",
       "    </tr>\n",
       "    <tr>\n",
       "      <th>3</th>\n",
       "      <td>CCC-1</td>\n",
       "      <td>15.4 KM</td>\n",
       "      <td>City Civil Court</td>\n",
       "      <td>City Civil Court</td>\n",
       "      <td>http://www.mybmtc.com/tripplanner/route/locati...</td>\n",
       "      <td>http://www.mybmtc.com/route/busstops/4359/prin...</td>\n",
       "      <td>00:55 Min.</td>\n",
       "      <td>[{\"busstop\": \"City Civil Court\", \"latlons\": [\"...</td>\n",
       "      <td>09:05,  10:05,  11:05,  12:30,  13:30,  14:30,...</td>\n",
       "      <td>10:00,  11:00,  12:00,  13:25,  14:25,  15:25,...</td>\n",
       "      <td>09:05, 10:05, 11:05, 12:30, 13:30, 14:30, 15:3...</td>\n",
       "      <td>10:00, 11:00, 12:00, 13:25, 14:25, 15:25, 16:2...</td>\n",
       "    </tr>\n",
       "    <tr>\n",
       "      <th>4</th>\n",
       "      <td>FDR-1</td>\n",
       "      <td>19 KM</td>\n",
       "      <td>Vasanthapura</td>\n",
       "      <td>Vasanthapura</td>\n",
       "      <td>http://www.mybmtc.com/tripplanner/route/locati...</td>\n",
       "      <td>http://www.mybmtc.com/route/busstops/2085/prin...</td>\n",
       "      <td>01:20 Min.</td>\n",
       "      <td>[{\"busstop\": \"Vasanthapura,VASANTHAPURA,IN FRO...</td>\n",
       "      <td>05:30,  06:05,  06:15,  06:40,  07:15,  07:25,...</td>\n",
       "      <td>06:35,  07:10,  07:20,  07:45,  08:20,  08:30,...</td>\n",
       "      <td>05:30, 06:05, 06:15, 06:40, 07:15, 07:25, 07:4...</td>\n",
       "      <td>06:35, 07:10, 07:20, 07:45, 08:20, 08:30, 08:4...</td>\n",
       "    </tr>\n",
       "  </tbody>\n",
       "</table>\n",
       "</div>"
      ],
      "text/plain": [
       "  route_no distance                origin  \\\n",
       "0        1  19.6 KM  Jayanagara 9th Block   \n",
       "1       1E  20.8 KM    JPNagara 6th Phase   \n",
       "2       1F  11.5 KM            BTM Layout   \n",
       "3    CCC-1  15.4 KM      City Civil Court   \n",
       "4    FDR-1    19 KM          Vasanthapura   \n",
       "\n",
       "                           destination  \\\n",
       "0  Yeshwanathapura new railway station   \n",
       "1       Chowdeshwari Bus Stand JP Park   \n",
       "2               Krishnarajendra Market   \n",
       "3                     City Civil Court   \n",
       "4                         Vasanthapura   \n",
       "\n",
       "                                            map_link  \\\n",
       "0  http://www.mybmtc.com/tripplanner/route/locati...   \n",
       "1  http://www.mybmtc.com/tripplanner/route/locati...   \n",
       "2  http://www.mybmtc.com/tripplanner/route/locati...   \n",
       "3  http://www.mybmtc.com/tripplanner/route/locati...   \n",
       "4  http://www.mybmtc.com/tripplanner/route/locati...   \n",
       "\n",
       "                                       busstops_link        time  \\\n",
       "0  http://www.mybmtc.com/route/busstops/1968/prin...  01:25 Min.   \n",
       "1  http://www.mybmtc.com/route/busstops/906/print...  01:45 Min.   \n",
       "2  http://www.mybmtc.com/route/busstops/1157/prin...  00:50 Min.   \n",
       "3  http://www.mybmtc.com/route/busstops/4359/prin...  00:55 Min.   \n",
       "4  http://www.mybmtc.com/route/busstops/2085/prin...  01:20 Min.   \n",
       "\n",
       "                                    map_json_content  \\\n",
       "0  [{\"busstop\": \"Jayanagara 9th Block,JAYANAGARA ...   \n",
       "1  [{\"busstop\": \"JPNagara 6th Phase,JP NAGARA 6TH...   \n",
       "2  [{\"busstop\": \"BTM Layout,BTM Layout 2nd Stage,...   \n",
       "3  [{\"busstop\": \"City Civil Court\", \"latlons\": [\"...   \n",
       "4  [{\"busstop\": \"Vasanthapura,VASANTHAPURA,IN FRO...   \n",
       "\n",
       "                               departure_from_origin  \\\n",
       "0  07:35,  08:15,  08:55,  10:40,  11:20,  12:00,...   \n",
       "1                      07:20,  10:45,  17:30,  21:00   \n",
       "2      08:20,  10:10,  12:25,  14:15,  16:25,  18:10   \n",
       "3  09:05,  10:05,  11:05,  12:30,  13:30,  14:30,...   \n",
       "4  05:30,  06:05,  06:15,  06:40,  07:15,  07:25,...   \n",
       "\n",
       "                              arrival_at_destination  \\\n",
       "0  08:50,  09:30,  10:10,  11:55,  12:35,  13:15,...   \n",
       "1                      08:45,  12:20,  18:55,  22:25   \n",
       "2      09:10,  11:00,  13:15,  15:05,  17:10,  19:00   \n",
       "3  10:00,  11:00,  12:00,  13:25,  14:25,  15:25,...   \n",
       "4  06:35,  07:10,  07:20,  07:45,  08:20,  08:30,...   \n",
       "\n",
       "                          departure_from_destination  \\\n",
       "0  08:55, 09:35, 10:40, 12:00, 12:40, 13:20, 14:4...   \n",
       "1                         05:30, 08:50, 15:35, 19:00   \n",
       "2           09:15, 11:30, 13:20, 15:10, 17:15, 19:05   \n",
       "3  09:05, 10:05, 11:05, 12:30, 13:30, 14:30, 15:3...   \n",
       "4  05:30, 06:05, 06:15, 06:40, 07:15, 07:25, 07:4...   \n",
       "\n",
       "                                   arrival_at_origin  \n",
       "0  10:10, 10:50, 11:55, 13:15, 13:55, 14:35, 15:5...  \n",
       "1                         07:15, 10:15, 17:00, 20:30  \n",
       "2           10:05, 12:20, 14:10, 15:55, 18:05, 19:55  \n",
       "3  10:00, 11:00, 12:00, 13:25, 14:25, 15:25, 16:2...  \n",
       "4  06:35, 07:10, 07:20, 07:45, 08:20, 08:30, 08:4...  "
      ]
     },
     "execution_count": 50,
     "metadata": {},
     "output_type": "execute_result"
    }
   ],
   "source": [
    "df = pd.read_csv('BMTC data.csv')\n",
    "df.head()"
   ]
  },
  {
   "cell_type": "code",
   "execution_count": 51,
   "metadata": {},
   "outputs": [
    {
     "data": {
      "text/plain": [
       "'[{\"busstop\": \"JPNagara 6th Phase,JP NAGARA 6TH PHASE,OPPOSITE OF THE BIG MARKET\", \"latlons\": [\"12.9064924294071\", \"77.5776125399524\"]}, {\"busstop\": \"JP Nagara 15th Cross,JP NAGARA 2ND PHASE,BESIDE CELL CITY\", \"latlons\": [\"12.9071376264641\", \"77.5856277850601\"]}, {\"busstop\": \"RVDental College,JP NAGARA 1ST PHASE,BESIDE R.V.COLLEGE\", \"latlons\": [\"12.9111515544\", \"77.5856779609\"]}, {\"busstop\": \"Marenahalli,JP NAGARA 1ST PHASE,BESIDE 3M CAR CARE\", \"latlons\": [\"12.9153368901\", \"77.5856925454\"]}, {\"busstop\": \"Jayanagara 5th Block,JAYANAGARA 5TH BLOCK,BESIDE AIR WAAVE\", \"latlons\": [\"12.9174407478\", \"77.5835442636\"]}, {\"busstop\": \"Telephone Exchange,JAYANAGARA 4TH BLOCK,BESIDE BSNL OFFICE\", \"latlons\": [\"12.9237699229\", \"77.5837743469\"]}, {\"busstop\": \"Jayanagara 4th Block,TTMC\", \"latlons\": [\"12.9284826437007\", \"77.58420959115\"]}, {\"busstop\": \"Jayanagara 3rd Block,JAYANAGARA 3RD BLOCK,OPPOSITE OF UTL TECHNOLOGIS\", \"latlons\": [\"12.9317783285\", \"77.5839063618\"]}, {\"busstop\": \"Madavan Park,JAYANAGARA 3RD BLOCK,OPPOSITE OF ORIENTAL INSUARENCE\", \"latlons\": [\"12.9361068271\", \"77.5839236286\"]}, {\"busstop\": \"Vijaya College,BASAVANAGUDI,OPPOSITE OF INFORMATICS\", \"latlons\": [\"12.9390512221\", \"77.5799340103\"]}, {\"busstop\": \"RV Teachers College,BASAVANAGUDI,BESIDE MEGA AGENSIS\", \"latlons\": [\"12.944399463\", \"77.5799635984\"]}, {\"busstop\": \"Lalbagh West Gate,V.V.PURAM,BESIDE HDFC BANK\", \"latlons\": [\"12.9495261854038\", \"77.5798964898135\"]}, {\"busstop\": \"Minarva Circle,V.V.PURAM\", \"latlons\": [\"12.9536740969716\", \"77.5798819155073\"]}, {\"busstop\": \"Town Hall,OPPOSITE OF RANI CHANNAMMA STATUE\", \"latlons\": [\"12.96354088\", \"77.5850038882\"]}, {\"busstop\": \"Corporation,CORPORATION,IN FRONT OF BANAPPA PARK\", \"latlons\": [\"12.9685279448\", \"77.5864692125\"]}, {\"busstop\": \"Mysore Bank,VASANTHA NAGARA,BESIDE ALL INDIA COUNCIL FOR TECHNICAL\", \"latlons\": [\"12.9746610671\", \"77.5819961261\"]}, {\"busstop\": \"Telephone Exchange,VASANTHA NAGARA,BESIDE TELEPHONE EXCHANGE\", \"latlons\": [\"12.9823366273\", \"77.5885294843\"]}, {\"busstop\": \"RC College,VASANTHA NAGARA,BESIDE R.C.COLLEGE\", \"latlons\": [\"12.9839449814296\", \"77.5871066739705\"]}, {\"busstop\": \"Shivananda Stores,VASANTHA NAGARA,BESIDE SEA ROCK RESTAURANT\", \"latlons\": [\"12.9867516022091\", \"77.5791462398814\"]}, {\"busstop\": \"Swastik,SHESHADRI PURAM,OPPOSITE OF SESHADRIPURAM POLICE STATION\", \"latlons\": [\"12.987743702505\", \"77.574388523525\"]}, {\"busstop\": \"Central,SHESHADRI PURAM,OPPOSITE TO HOTEL GREEN ARCHID\", \"latlons\": [\"12.9899747663903\", \"77.572098665973\"]}, {\"busstop\": \"Malleshwaram Circle,MALLESHWARAM,BESIDE R.R.GOLD PALACE\", \"latlons\": [\"12.9978901319732\", \"77.5713099939793\"]}, {\"busstop\": \"Malleshwaram 8th Cross,MALLESHWARAM,BESIDE FLOWER MARKET\", \"latlons\": [\"12.99966\", \"77.57128\"]}, {\"busstop\": \"Malleshwaram 15th Cross,MALLESHWARAM,BESIDE SAI MANDIR\", \"latlons\": [\"13.005030714\", \"77.5711547211\"]}, {\"busstop\": \"Malleshwaram 18th Cross,MALLESHWARAM,BESIDE KARNATAKA EXAMINATION AUTHORITY\", \"latlons\": [\"13.0090816878\", \"77.5710476004\"]}, {\"busstop\": \"Tata Institute\", \"latlons\": [\"13.01565694\", \"77.56289701\"]}, {\"busstop\": \"Yeshwanthpura\", \"latlons\": [\"13.0174217\", \"77.55977236\"]}, {\"busstop\": \"Yeshwanthpura Market,YESHAWANTHAPURA,IN FRONT OF SYNDICATE BANK ATM\", \"latlons\": [\"13.0204587802\", \"77.5556880981\"]}, {\"busstop\": \"Bombay Dyeing,YESHAWANTHAPURA,IN FRONT OF RAGHU MEDICALS\", \"latlons\": [\"13.0250683241\", \"77.5574772153\"]}, {\"busstop\": \"Mathikere Post Office,MATHIKERE,IN FRONT OF SAI INTERNATIONAL ELECTRONICS\", \"latlons\": [\"13.0292071434388\", \"77.5591417368623\"]}, {\"busstop\": \"Mathikere,MATHIKERE,IN FRONT OF VINAYAKA CONDIMENTS\", \"latlons\": [\"13.0345050409528\", \"77.5573473945702\"]}, {\"busstop\": \"Chowdeshwari Bus Stand JP Park,MATHIKERE, CHOUDESHWARI BUS STOP,IN FRONT OF LOK ANAND APARTMENTS\", \"latlons\": [\"13.0331773963\", \"77.554171728\"]}]'"
      ]
     },
     "execution_count": 51,
     "metadata": {},
     "output_type": "execute_result"
    }
   ],
   "source": [
    "#conveting the float data to string \n",
    "\n",
    "df['map_json_content']= df['map_json_content'].astype(str)\n",
    "df['map_json_content'][1]"
   ]
  },
  {
   "cell_type": "code",
   "execution_count": 52,
   "metadata": {},
   "outputs": [
    {
     "data": {
      "text/plain": [
       "'JPNagara6thPhase,JPNAGARA6THPHASE,OPPOSITEOFTHEBIGMARKET\",\"JPNagara15thCross,JPNAGARA2NDPHASE,BESIDECELLCITY\",\"RVDentalCollege,JPNAGARA1STPHASE,BESIDER.V.COLLEGE\",\"Marenahalli,JPNAGARA1STPHASE,BESIDE3MCARCARE\",\"Jayanagara5thBlock,JAYANAGARA5THBLOCK,BESIDEAIRWAAVE\",\"TelephoneExchange,JAYANAGARA4THBLOCK,BESIDEBSNLOFFICE\",\"Jayanagara4thBlock,TTMC\",\"Jayanagara3rdBlock,JAYANAGARA3RDBLOCK,OPPOSITEOFUTLTECHNOLOGIS\",\"MadavanPark,JAYANAGARA3RDBLOCK,OPPOSITEOFORIENTALINSUARENCE\",\"VijayaCollege,BASAVANAGUDI,OPPOSITEOFINFORMATICS\",\"RVTeachersCollege,BASAVANAGUDI,BESIDEMEGAAGENSIS\",\"LalbaghWestGate,V.V.PURAM,BESIDEHDFCBANK\",\"MinarvaCircle,V.V.PURAM\",\"TownHall,OPPOSITEOFRANICHANNAMMASTATUE\",\"Corporation,CORPORATION,INFRONTOFBANAPPAPARK\",\"MysoreBank,VASANTHANAGARA,BESIDEALLINDIACOUNCILFORTECHNICAL\",\"TelephoneExchange,VASANTHANAGARA,BESIDETELEPHONEEXCHANGE\",\"RCCollege,VASANTHANAGARA,BESIDER.C.COLLEGE\",\"ShivanandaStores,VASANTHANAGARA,BESIDESEAROCKRESTAURANT\",\"Swastik,SHESHADRIPURAM,OPPOSITEOFSESHADRIPURAMPOLICESTATION\",\"Central,SHESHADRIPURAM,OPPOSITETOHOTELGREENARCHID\",\"MalleshwaramCircle,MALLESHWARAM,BESIDER.R.GOLDPALACE\",\"Malleshwaram8thCross,MALLESHWARAM,BESIDEFLOWERMARKET\",\"Malleshwaram15thCross,MALLESHWARAM,BESIDESAIMANDIR\",\"Malleshwaram18thCross,MALLESHWARAM,BESIDEKARNATAKAEXAMINATIONAUTHORITY\",\"TataInstitute\",\"Yeshwanthpura\",\"YeshwanthpuraMarket,YESHAWANTHAPURA,INFRONTOFSYNDICATEBANKATM\",\"BombayDyeing,YESHAWANTHAPURA,INFRONTOFRAGHUMEDICALS\",\"MathikerePostOffice,MATHIKERE,INFRONTOFSAIINTERNATIONALELECTRONICS\",\"Mathikere,MATHIKERE,INFRONTOFVINAYAKACONDIMENTS\",\"ChowdeshwariBusStandJPPark,MATHIKERE,CHOUDESHWARIBUSSTOP,INFRONTOFLOKANANDAPARTMENTS\",'"
      ]
     },
     "execution_count": 52,
     "metadata": {},
     "output_type": "execute_result"
    }
   ],
   "source": [
    "#Replacing the data in columns\n",
    "df['map_json_content'] = df['map_json_content'].str.replace('{\"busstop\": ','')\n",
    "                                                              \n",
    "df['map_json_content'] = df['map_json_content'].str.replace(' \"latlons\": ','')\n",
    "\n",
    "#using the index slicing \n",
    "df['map_json_content']= df['map_json_content'].str[2:]\n",
    "df['map_json_content']= df['map_json_content'].str[:-2]\n",
    "\n",
    "#replacing the data in between the parenthisis\n",
    "\n",
    "df['map_json_content'] = df['map_json_content'].str.replace(r\"(\\s*\\[.*?\\]\\s*)\", \" \").str.strip()\n",
    "\n",
    "df['map_json_content'] = df['map_json_content'].str.replace('}','')\n",
    "\n",
    "df['map_json_content'] = df['map_json_content'].str.replace(' ','')\n",
    "\n",
    "df['map_json_content'] = df['map_json_content'].str.replace(',,',',')\n",
    "df['map_json_content'][1]"
   ]
  },
  {
   "cell_type": "code",
   "execution_count": 53,
   "metadata": {},
   "outputs": [
    {
     "data": {
      "text/plain": [
       "'JPNagara6thPhase,JPNAGARA6THPHASE,OPPOSITEOFTHEBIGMARKET\",\"JPNagara15thCross,JPNAGARA2NDPHASE,BESIDECELLCITY\",\"RVDentalCollege,JPNAGARA1STPHASE,BESIDER.V.COLLEGE\",\"Marenahalli,JPNAGARA1STPHASE,BESIDE3MCARCARE\",\"Jayanagara5thBlock,JAYANAGARA5THBLOCK,BESIDEAIRWAAVE\",\"TelephoneExchange,JAYANAGARA4THBLOCK,BESIDEBSNLOFFICE\",\"Jayanagara4thBlock,TTMC\",\"Jayanagara3rdBlock,JAYANAGARA3RDBLOCK,OPPOSITEOFUTLTECHNOLOGIS\",\"MadavanPark,JAYANAGARA3RDBLOCK,OPPOSITEOFORIENTALINSUARENCE\",\"VijayaCollege,BASAVANAGUDI,OPPOSITEOFINFORMATICS\",\"RVTeachersCollege,BASAVANAGUDI,BESIDEMEGAAGENSIS\",\"LalbaghWestGate,V.V.PURAM,BESIDEHDFCBANK\",\"MinarvaCircle,V.V.PURAM\",\"TownHall,OPPOSITEOFRANICHANNAMMASTATUE\",\"Corporation,CORPORATION,INFRONTOFBANAPPAPARK\",\"MysoreBank,VASANTHANAGARA,BESIDEALLINDIACOUNCILFORTECHNICAL\",\"TelephoneExchange,VASANTHANAGARA,BESIDETELEPHONEEXCHANGE\",\"RCCollege,VASANTHANAGARA,BESIDER.C.COLLEGE\",\"ShivanandaStores,VASANTHANAGARA,BESIDESEAROCKRESTAURANT\",\"Swastik,SHESHADRIPURAM,OPPOSITEOFSESHADRIPURAMPOLICESTATION\",\"Central,SHESHADRIPURAM,OPPOSITETOHOTELGREENARCHID\",\"MalleshwaramCircle,MALLESHWARAM,BESIDER.R.GOLDPALACE\",\"Malleshwaram8thCross,MALLESHWARAM,BESIDEFLOWERMARKET\",\"Malleshwaram15thCross,MALLESHWARAM,BESIDESAIMANDIR\",\"Malleshwaram18thCross,MALLESHWARAM,BESIDEKARNATAKAEXAMINATIONAUTHORITY\",\"TataInstitute\",\"Yeshwanthpura\",\"YeshwanthpuraMarket,YESHAWANTHAPURA,INFRONTOFSYNDICATEBANKATM\",\"BombayDyeing,YESHAWANTHAPURA,INFRONTOFRAGHUMEDICALS\",\"MathikerePostOffice,MATHIKERE,INFRONTOFSAIINTERNATIONALELECTRONICS\",\"Mathikere,MATHIKERE,INFRONTOFVINAYAKACONDIMENTS\",\"ChowdeshwariBusStandJPPark,MATHIKERE,CHOUDESHWARIBUSSTOP,INFRONTOFLOKANANDAPARTMENTS\",'"
      ]
     },
     "execution_count": 53,
     "metadata": {},
     "output_type": "execute_result"
    }
   ],
   "source": [
    "df['Bus Stops'] = df['map_json_content']\n",
    "df['Bus Stops'][1]"
   ]
  },
  {
   "cell_type": "code",
   "execution_count": 54,
   "metadata": {},
   "outputs": [
    {
     "data": {
      "text/html": [
       "<div>\n",
       "<style scoped>\n",
       "    .dataframe tbody tr th:only-of-type {\n",
       "        vertical-align: middle;\n",
       "    }\n",
       "\n",
       "    .dataframe tbody tr th {\n",
       "        vertical-align: top;\n",
       "    }\n",
       "\n",
       "    .dataframe thead th {\n",
       "        text-align: right;\n",
       "    }\n",
       "</style>\n",
       "<table border=\"1\" class=\"dataframe\">\n",
       "  <thead>\n",
       "    <tr style=\"text-align: right;\">\n",
       "      <th></th>\n",
       "      <th>route_no</th>\n",
       "      <th>distance</th>\n",
       "      <th>origin</th>\n",
       "      <th>destination</th>\n",
       "      <th>time</th>\n",
       "      <th>departure_from_origin</th>\n",
       "      <th>arrival_at_destination</th>\n",
       "      <th>departure_from_destination</th>\n",
       "      <th>arrival_at_origin</th>\n",
       "      <th>Bus Stops</th>\n",
       "    </tr>\n",
       "  </thead>\n",
       "  <tbody>\n",
       "    <tr>\n",
       "      <th>0</th>\n",
       "      <td>1</td>\n",
       "      <td>19.6 KM</td>\n",
       "      <td>Jayanagara 9th Block</td>\n",
       "      <td>Yeshwanathapura new railway station</td>\n",
       "      <td>01:25 Min.</td>\n",
       "      <td>07:35,  08:15,  08:55,  10:40,  11:20,  12:00,...</td>\n",
       "      <td>08:50,  09:30,  10:10,  11:55,  12:35,  13:15,...</td>\n",
       "      <td>08:55, 09:35, 10:40, 12:00, 12:40, 13:20, 14:4...</td>\n",
       "      <td>10:10, 10:50, 11:55, 13:15, 13:55, 14:35, 15:5...</td>\n",
       "      <td>Jayanagara9thBlock,JAYANAGARA9THBLOCK,BESIDEHO...</td>\n",
       "    </tr>\n",
       "    <tr>\n",
       "      <th>1</th>\n",
       "      <td>1E</td>\n",
       "      <td>20.8 KM</td>\n",
       "      <td>JPNagara 6th Phase</td>\n",
       "      <td>Chowdeshwari Bus Stand JP Park</td>\n",
       "      <td>01:45 Min.</td>\n",
       "      <td>07:20,  10:45,  17:30,  21:00</td>\n",
       "      <td>08:45,  12:20,  18:55,  22:25</td>\n",
       "      <td>05:30, 08:50, 15:35, 19:00</td>\n",
       "      <td>07:15, 10:15, 17:00, 20:30</td>\n",
       "      <td>JPNagara6thPhase,JPNAGARA6THPHASE,OPPOSITEOFTH...</td>\n",
       "    </tr>\n",
       "    <tr>\n",
       "      <th>2</th>\n",
       "      <td>1F</td>\n",
       "      <td>11.5 KM</td>\n",
       "      <td>BTM Layout</td>\n",
       "      <td>Krishnarajendra Market</td>\n",
       "      <td>00:50 Min.</td>\n",
       "      <td>08:20,  10:10,  12:25,  14:15,  16:25,  18:10</td>\n",
       "      <td>09:10,  11:00,  13:15,  15:05,  17:10,  19:00</td>\n",
       "      <td>09:15, 11:30, 13:20, 15:10, 17:15, 19:05</td>\n",
       "      <td>10:05, 12:20, 14:10, 15:55, 18:05, 19:55</td>\n",
       "      <td>BTMLayout,BTMLayout2ndStage,KuvempunagaraBusSt...</td>\n",
       "    </tr>\n",
       "  </tbody>\n",
       "</table>\n",
       "</div>"
      ],
      "text/plain": [
       "  route_no distance                origin  \\\n",
       "0        1  19.6 KM  Jayanagara 9th Block   \n",
       "1       1E  20.8 KM    JPNagara 6th Phase   \n",
       "2       1F  11.5 KM            BTM Layout   \n",
       "\n",
       "                           destination        time  \\\n",
       "0  Yeshwanathapura new railway station  01:25 Min.   \n",
       "1       Chowdeshwari Bus Stand JP Park  01:45 Min.   \n",
       "2               Krishnarajendra Market  00:50 Min.   \n",
       "\n",
       "                               departure_from_origin  \\\n",
       "0  07:35,  08:15,  08:55,  10:40,  11:20,  12:00,...   \n",
       "1                      07:20,  10:45,  17:30,  21:00   \n",
       "2      08:20,  10:10,  12:25,  14:15,  16:25,  18:10   \n",
       "\n",
       "                              arrival_at_destination  \\\n",
       "0  08:50,  09:30,  10:10,  11:55,  12:35,  13:15,...   \n",
       "1                      08:45,  12:20,  18:55,  22:25   \n",
       "2      09:10,  11:00,  13:15,  15:05,  17:10,  19:00   \n",
       "\n",
       "                          departure_from_destination  \\\n",
       "0  08:55, 09:35, 10:40, 12:00, 12:40, 13:20, 14:4...   \n",
       "1                         05:30, 08:50, 15:35, 19:00   \n",
       "2           09:15, 11:30, 13:20, 15:10, 17:15, 19:05   \n",
       "\n",
       "                                   arrival_at_origin  \\\n",
       "0  10:10, 10:50, 11:55, 13:15, 13:55, 14:35, 15:5...   \n",
       "1                         07:15, 10:15, 17:00, 20:30   \n",
       "2           10:05, 12:20, 14:10, 15:55, 18:05, 19:55   \n",
       "\n",
       "                                           Bus Stops  \n",
       "0  Jayanagara9thBlock,JAYANAGARA9THBLOCK,BESIDEHO...  \n",
       "1  JPNagara6thPhase,JPNAGARA6THPHASE,OPPOSITEOFTH...  \n",
       "2  BTMLayout,BTMLayout2ndStage,KuvempunagaraBusSt...  "
      ]
     },
     "execution_count": 54,
     "metadata": {},
     "output_type": "execute_result"
    }
   ],
   "source": [
    "# drop the columns \n",
    "df.drop(columns=['busstops_link', 'map_link','map_json_content'], inplace =True)\n",
    "df.head(3)"
   ]
  },
  {
   "cell_type": "code",
   "execution_count": 55,
   "metadata": {},
   "outputs": [
    {
     "data": {
      "text/plain": [
       "91"
      ]
     },
     "execution_count": 55,
     "metadata": {},
     "output_type": "execute_result"
    }
   ],
   "source": [
    "# counting the number of bustops comes in that routes \n",
    "#df['Bus Stops'] = df['Bus Stops'].astype(str)\n",
    "df['Total BusStops '] = df['Bus Stops'].str.count(',') + 1\n",
    "\n",
    "df['Total BusStops '][1]"
   ]
  },
  {
   "cell_type": "code",
   "execution_count": 39,
   "metadata": {},
   "outputs": [
    {
     "data": {
      "text/html": [
       "<div>\n",
       "<style scoped>\n",
       "    .dataframe tbody tr th:only-of-type {\n",
       "        vertical-align: middle;\n",
       "    }\n",
       "\n",
       "    .dataframe tbody tr th {\n",
       "        vertical-align: top;\n",
       "    }\n",
       "\n",
       "    .dataframe thead th {\n",
       "        text-align: right;\n",
       "    }\n",
       "</style>\n",
       "<table border=\"1\" class=\"dataframe\">\n",
       "  <thead>\n",
       "    <tr style=\"text-align: right;\">\n",
       "      <th></th>\n",
       "      <th>route_no</th>\n",
       "      <th>distance</th>\n",
       "      <th>origin</th>\n",
       "      <th>destination</th>\n",
       "      <th>time</th>\n",
       "      <th>departure_from_origin</th>\n",
       "      <th>arrival_at_destination</th>\n",
       "      <th>departure_from_destination</th>\n",
       "      <th>arrival_at_origin</th>\n",
       "      <th>Bus Stops</th>\n",
       "      <th>Total BusStops</th>\n",
       "    </tr>\n",
       "  </thead>\n",
       "  <tbody>\n",
       "    <tr>\n",
       "      <th>0</th>\n",
       "      <td>1</td>\n",
       "      <td>19.6 KM</td>\n",
       "      <td>Jayanagara 9th Block</td>\n",
       "      <td>Yeshwanathapura new railway station</td>\n",
       "      <td>01:25 Min.</td>\n",
       "      <td>07:35,  08:15,  08:55,  10:40,  11:20,  12:00,...</td>\n",
       "      <td>08:50,  09:30,  10:10,  11:55,  12:35,  13:15,...</td>\n",
       "      <td>08:55, 09:35, 10:40, 12:00, 12:40, 13:20, 14:4...</td>\n",
       "      <td>10:10, 10:50, 11:55, 13:15, 13:55, 14:35, 15:5...</td>\n",
       "      <td>Jayanagara9thBlock,JAYANAGARA9THBLOCK,BESIDEHO...</td>\n",
       "      <td>76</td>\n",
       "    </tr>\n",
       "    <tr>\n",
       "      <th>1</th>\n",
       "      <td>1E</td>\n",
       "      <td>20.8 KM</td>\n",
       "      <td>JPNagara 6th Phase</td>\n",
       "      <td>Chowdeshwari Bus Stand JP Park</td>\n",
       "      <td>01:45 Min.</td>\n",
       "      <td>07:20,  10:45,  17:30,  21:00</td>\n",
       "      <td>08:45,  12:20,  18:55,  22:25</td>\n",
       "      <td>05:30, 08:50, 15:35, 19:00</td>\n",
       "      <td>07:15, 10:15, 17:00, 20:30</td>\n",
       "      <td>JPNagara6thPhase,JPNAGARA6THPHASE,OPPOSITEOFTH...</td>\n",
       "      <td>91</td>\n",
       "    </tr>\n",
       "    <tr>\n",
       "      <th>2</th>\n",
       "      <td>1F</td>\n",
       "      <td>11.5 KM</td>\n",
       "      <td>BTM Layout</td>\n",
       "      <td>Krishnarajendra Market</td>\n",
       "      <td>00:50 Min.</td>\n",
       "      <td>08:20,  10:10,  12:25,  14:15,  16:25,  18:10</td>\n",
       "      <td>09:10,  11:00,  13:15,  15:05,  17:10,  19:00</td>\n",
       "      <td>09:15, 11:30, 13:20, 15:10, 17:15, 19:05</td>\n",
       "      <td>10:05, 12:20, 14:10, 15:55, 18:05, 19:55</td>\n",
       "      <td>BTMLayout,BTMLayout2ndStage,KuvempunagaraBusSt...</td>\n",
       "      <td>64</td>\n",
       "    </tr>\n",
       "    <tr>\n",
       "      <th>3</th>\n",
       "      <td>CCC-1</td>\n",
       "      <td>15.4 KM</td>\n",
       "      <td>City Civil Court</td>\n",
       "      <td>City Civil Court</td>\n",
       "      <td>00:55 Min.</td>\n",
       "      <td>09:05,  10:05,  11:05,  12:30,  13:30,  14:30,...</td>\n",
       "      <td>10:00,  11:00,  12:00,  13:25,  14:25,  15:25,...</td>\n",
       "      <td>09:05, 10:05, 11:05, 12:30, 13:30, 14:30, 15:3...</td>\n",
       "      <td>10:00, 11:00, 12:00, 13:25, 14:25, 15:25, 16:2...</td>\n",
       "      <td>CityCivilCourt\",\"KRCircle,BESIDEDISTRICTTREASU...</td>\n",
       "      <td>26</td>\n",
       "    </tr>\n",
       "    <tr>\n",
       "      <th>4</th>\n",
       "      <td>FDR-1</td>\n",
       "      <td>19 KM</td>\n",
       "      <td>Vasanthapura</td>\n",
       "      <td>Vasanthapura</td>\n",
       "      <td>01:20 Min.</td>\n",
       "      <td>05:30,  06:05,  06:15,  06:40,  07:15,  07:25,...</td>\n",
       "      <td>06:35,  07:10,  07:20,  07:45,  08:20,  08:30,...</td>\n",
       "      <td>05:30, 06:05, 06:15, 06:40, 07:15, 07:25, 07:4...</td>\n",
       "      <td>06:35, 07:10, 07:20, 07:45, 08:20, 08:30, 08:4...</td>\n",
       "      <td>Vasanthapura,VASANTHAPURA,INFRONTOFVASANTHAVAL...</td>\n",
       "      <td>104</td>\n",
       "    </tr>\n",
       "  </tbody>\n",
       "</table>\n",
       "</div>"
      ],
      "text/plain": [
       "  route_no distance                origin  \\\n",
       "0        1  19.6 KM  Jayanagara 9th Block   \n",
       "1       1E  20.8 KM    JPNagara 6th Phase   \n",
       "2       1F  11.5 KM            BTM Layout   \n",
       "3    CCC-1  15.4 KM      City Civil Court   \n",
       "4    FDR-1    19 KM          Vasanthapura   \n",
       "\n",
       "                           destination        time  \\\n",
       "0  Yeshwanathapura new railway station  01:25 Min.   \n",
       "1       Chowdeshwari Bus Stand JP Park  01:45 Min.   \n",
       "2               Krishnarajendra Market  00:50 Min.   \n",
       "3                     City Civil Court  00:55 Min.   \n",
       "4                         Vasanthapura  01:20 Min.   \n",
       "\n",
       "                               departure_from_origin  \\\n",
       "0  07:35,  08:15,  08:55,  10:40,  11:20,  12:00,...   \n",
       "1                      07:20,  10:45,  17:30,  21:00   \n",
       "2      08:20,  10:10,  12:25,  14:15,  16:25,  18:10   \n",
       "3  09:05,  10:05,  11:05,  12:30,  13:30,  14:30,...   \n",
       "4  05:30,  06:05,  06:15,  06:40,  07:15,  07:25,...   \n",
       "\n",
       "                              arrival_at_destination  \\\n",
       "0  08:50,  09:30,  10:10,  11:55,  12:35,  13:15,...   \n",
       "1                      08:45,  12:20,  18:55,  22:25   \n",
       "2      09:10,  11:00,  13:15,  15:05,  17:10,  19:00   \n",
       "3  10:00,  11:00,  12:00,  13:25,  14:25,  15:25,...   \n",
       "4  06:35,  07:10,  07:20,  07:45,  08:20,  08:30,...   \n",
       "\n",
       "                          departure_from_destination  \\\n",
       "0  08:55, 09:35, 10:40, 12:00, 12:40, 13:20, 14:4...   \n",
       "1                         05:30, 08:50, 15:35, 19:00   \n",
       "2           09:15, 11:30, 13:20, 15:10, 17:15, 19:05   \n",
       "3  09:05, 10:05, 11:05, 12:30, 13:30, 14:30, 15:3...   \n",
       "4  05:30, 06:05, 06:15, 06:40, 07:15, 07:25, 07:4...   \n",
       "\n",
       "                                   arrival_at_origin  \\\n",
       "0  10:10, 10:50, 11:55, 13:15, 13:55, 14:35, 15:5...   \n",
       "1                         07:15, 10:15, 17:00, 20:30   \n",
       "2           10:05, 12:20, 14:10, 15:55, 18:05, 19:55   \n",
       "3  10:00, 11:00, 12:00, 13:25, 14:25, 15:25, 16:2...   \n",
       "4  06:35, 07:10, 07:20, 07:45, 08:20, 08:30, 08:4...   \n",
       "\n",
       "                                           Bus Stops  Total BusStops   \n",
       "0  Jayanagara9thBlock,JAYANAGARA9THBLOCK,BESIDEHO...               76  \n",
       "1  JPNagara6thPhase,JPNAGARA6THPHASE,OPPOSITEOFTH...               91  \n",
       "2  BTMLayout,BTMLayout2ndStage,KuvempunagaraBusSt...               64  \n",
       "3  CityCivilCourt\",\"KRCircle,BESIDEDISTRICTTREASU...               26  \n",
       "4  Vasanthapura,VASANTHAPURA,INFRONTOFVASANTHAVAL...              104  "
      ]
     },
     "execution_count": 39,
     "metadata": {},
     "output_type": "execute_result"
    }
   ],
   "source": [
    "df.head()"
   ]
  },
  {
   "cell_type": "code",
   "execution_count": 57,
   "metadata": {},
   "outputs": [],
   "source": [
    "df['No Buses '] = df['departure_from_origin'].str.count(',') + 1\n"
   ]
  },
  {
   "cell_type": "code",
   "execution_count": 58,
   "metadata": {},
   "outputs": [
    {
     "ename": "AttributeError",
     "evalue": "'Series' object has no attribute 'sort'",
     "output_type": "error",
     "traceback": [
      "\u001b[1;31m---------------------------------------------------------------------------\u001b[0m",
      "\u001b[1;31mAttributeError\u001b[0m                            Traceback (most recent call last)",
      "\u001b[1;32m<ipython-input-58-0dfbcd152b3d>\u001b[0m in \u001b[0;36m<module>\u001b[1;34m\u001b[0m\n\u001b[1;32m----> 1\u001b[1;33m \u001b[0mdf\u001b[0m\u001b[1;33m[\u001b[0m\u001b[1;34m'departure_from_origin'\u001b[0m\u001b[1;33m]\u001b[0m\u001b[1;33m.\u001b[0m\u001b[0msort\u001b[0m\u001b[1;33m(\u001b[0m\u001b[1;33m)\u001b[0m\u001b[1;33m\u001b[0m\u001b[1;33m\u001b[0m\u001b[0m\n\u001b[0m",
      "\u001b[1;32m~\\Anaconda3\\lib\\site-packages\\pandas\\core\\generic.py\u001b[0m in \u001b[0;36m__getattr__\u001b[1;34m(self, name)\u001b[0m\n\u001b[0;32m   5065\u001b[0m             \u001b[1;32mif\u001b[0m \u001b[0mself\u001b[0m\u001b[1;33m.\u001b[0m\u001b[0m_info_axis\u001b[0m\u001b[1;33m.\u001b[0m\u001b[0m_can_hold_identifiers_and_holds_name\u001b[0m\u001b[1;33m(\u001b[0m\u001b[0mname\u001b[0m\u001b[1;33m)\u001b[0m\u001b[1;33m:\u001b[0m\u001b[1;33m\u001b[0m\u001b[1;33m\u001b[0m\u001b[0m\n\u001b[0;32m   5066\u001b[0m                 \u001b[1;32mreturn\u001b[0m \u001b[0mself\u001b[0m\u001b[1;33m[\u001b[0m\u001b[0mname\u001b[0m\u001b[1;33m]\u001b[0m\u001b[1;33m\u001b[0m\u001b[1;33m\u001b[0m\u001b[0m\n\u001b[1;32m-> 5067\u001b[1;33m             \u001b[1;32mreturn\u001b[0m \u001b[0mobject\u001b[0m\u001b[1;33m.\u001b[0m\u001b[0m__getattribute__\u001b[0m\u001b[1;33m(\u001b[0m\u001b[0mself\u001b[0m\u001b[1;33m,\u001b[0m \u001b[0mname\u001b[0m\u001b[1;33m)\u001b[0m\u001b[1;33m\u001b[0m\u001b[1;33m\u001b[0m\u001b[0m\n\u001b[0m\u001b[0;32m   5068\u001b[0m \u001b[1;33m\u001b[0m\u001b[0m\n\u001b[0;32m   5069\u001b[0m     \u001b[1;32mdef\u001b[0m \u001b[0m__setattr__\u001b[0m\u001b[1;33m(\u001b[0m\u001b[0mself\u001b[0m\u001b[1;33m,\u001b[0m \u001b[0mname\u001b[0m\u001b[1;33m,\u001b[0m \u001b[0mvalue\u001b[0m\u001b[1;33m)\u001b[0m\u001b[1;33m:\u001b[0m\u001b[1;33m\u001b[0m\u001b[1;33m\u001b[0m\u001b[0m\n",
      "\u001b[1;31mAttributeError\u001b[0m: 'Series' object has no attribute 'sort'"
     ]
    }
   ],
   "source": [
    "df['departure_from_origin'].sort()"
   ]
  },
  {
   "cell_type": "code",
   "execution_count": 47,
   "metadata": {},
   "outputs": [
    {
     "ename": "AttributeError",
     "evalue": "Can only use .str accessor with string values, which use np.object_ dtype in pandas",
     "output_type": "error",
     "traceback": [
      "\u001b[1;31m---------------------------------------------------------------------------\u001b[0m",
      "\u001b[1;31mAttributeError\u001b[0m                            Traceback (most recent call last)",
      "\u001b[1;32m<ipython-input-47-5eaf6c5c35ef>\u001b[0m in \u001b[0;36m<module>\u001b[1;34m\u001b[0m\n\u001b[1;32m----> 1\u001b[1;33m \u001b[0mdf\u001b[0m\u001b[1;33m[\u001b[0m\u001b[1;34m'departure_from_origin'\u001b[0m\u001b[1;33m]\u001b[0m\u001b[1;33m=\u001b[0m \u001b[0mdf\u001b[0m\u001b[1;33m[\u001b[0m\u001b[1;34m'departure_from_origin'\u001b[0m\u001b[1;33m]\u001b[0m\u001b[1;33m.\u001b[0m\u001b[0mstr\u001b[0m\u001b[1;33m.\u001b[0m\u001b[0msplit\u001b[0m\u001b[1;33m(\u001b[0m\u001b[1;34m\" \"\u001b[0m\u001b[1;33m,\u001b[0m \u001b[0mn\u001b[0m \u001b[1;33m=\u001b[0m \u001b[1;36m1\u001b[0m\u001b[1;33m,\u001b[0m \u001b[0mexpand\u001b[0m \u001b[1;33m=\u001b[0m \u001b[1;32mFalse\u001b[0m\u001b[1;33m)\u001b[0m\u001b[1;33m\u001b[0m\u001b[1;33m\u001b[0m\u001b[0m\n\u001b[0m\u001b[0;32m      2\u001b[0m \u001b[0mdf\u001b[0m\u001b[1;33m.\u001b[0m\u001b[0mhead\u001b[0m\u001b[1;33m(\u001b[0m\u001b[1;33m)\u001b[0m\u001b[1;33m\u001b[0m\u001b[1;33m\u001b[0m\u001b[0m\n",
      "\u001b[1;32m~\\Anaconda3\\lib\\site-packages\\pandas\\core\\generic.py\u001b[0m in \u001b[0;36m__getattr__\u001b[1;34m(self, name)\u001b[0m\n\u001b[0;32m   5061\u001b[0m         if (name in self._internal_names_set or name in self._metadata or\n\u001b[0;32m   5062\u001b[0m                 name in self._accessors):\n\u001b[1;32m-> 5063\u001b[1;33m             \u001b[1;32mreturn\u001b[0m \u001b[0mobject\u001b[0m\u001b[1;33m.\u001b[0m\u001b[0m__getattribute__\u001b[0m\u001b[1;33m(\u001b[0m\u001b[0mself\u001b[0m\u001b[1;33m,\u001b[0m \u001b[0mname\u001b[0m\u001b[1;33m)\u001b[0m\u001b[1;33m\u001b[0m\u001b[1;33m\u001b[0m\u001b[0m\n\u001b[0m\u001b[0;32m   5064\u001b[0m         \u001b[1;32melse\u001b[0m\u001b[1;33m:\u001b[0m\u001b[1;33m\u001b[0m\u001b[1;33m\u001b[0m\u001b[0m\n\u001b[0;32m   5065\u001b[0m             \u001b[1;32mif\u001b[0m \u001b[0mself\u001b[0m\u001b[1;33m.\u001b[0m\u001b[0m_info_axis\u001b[0m\u001b[1;33m.\u001b[0m\u001b[0m_can_hold_identifiers_and_holds_name\u001b[0m\u001b[1;33m(\u001b[0m\u001b[0mname\u001b[0m\u001b[1;33m)\u001b[0m\u001b[1;33m:\u001b[0m\u001b[1;33m\u001b[0m\u001b[1;33m\u001b[0m\u001b[0m\n",
      "\u001b[1;32m~\\Anaconda3\\lib\\site-packages\\pandas\\core\\accessor.py\u001b[0m in \u001b[0;36m__get__\u001b[1;34m(self, obj, cls)\u001b[0m\n\u001b[0;32m    169\u001b[0m             \u001b[1;31m# we're accessing the attribute of the class, i.e., Dataset.geo\u001b[0m\u001b[1;33m\u001b[0m\u001b[1;33m\u001b[0m\u001b[1;33m\u001b[0m\u001b[0m\n\u001b[0;32m    170\u001b[0m             \u001b[1;32mreturn\u001b[0m \u001b[0mself\u001b[0m\u001b[1;33m.\u001b[0m\u001b[0m_accessor\u001b[0m\u001b[1;33m\u001b[0m\u001b[1;33m\u001b[0m\u001b[0m\n\u001b[1;32m--> 171\u001b[1;33m         \u001b[0maccessor_obj\u001b[0m \u001b[1;33m=\u001b[0m \u001b[0mself\u001b[0m\u001b[1;33m.\u001b[0m\u001b[0m_accessor\u001b[0m\u001b[1;33m(\u001b[0m\u001b[0mobj\u001b[0m\u001b[1;33m)\u001b[0m\u001b[1;33m\u001b[0m\u001b[1;33m\u001b[0m\u001b[0m\n\u001b[0m\u001b[0;32m    172\u001b[0m         \u001b[1;31m# Replace the property with the accessor object. Inspired by:\u001b[0m\u001b[1;33m\u001b[0m\u001b[1;33m\u001b[0m\u001b[1;33m\u001b[0m\u001b[0m\n\u001b[0;32m    173\u001b[0m         \u001b[1;31m# http://www.pydanny.com/cached-property.html\u001b[0m\u001b[1;33m\u001b[0m\u001b[1;33m\u001b[0m\u001b[1;33m\u001b[0m\u001b[0m\n",
      "\u001b[1;32m~\\Anaconda3\\lib\\site-packages\\pandas\\core\\strings.py\u001b[0m in \u001b[0;36m__init__\u001b[1;34m(self, data)\u001b[0m\n\u001b[0;32m   1794\u001b[0m \u001b[1;33m\u001b[0m\u001b[0m\n\u001b[0;32m   1795\u001b[0m     \u001b[1;32mdef\u001b[0m \u001b[0m__init__\u001b[0m\u001b[1;33m(\u001b[0m\u001b[0mself\u001b[0m\u001b[1;33m,\u001b[0m \u001b[0mdata\u001b[0m\u001b[1;33m)\u001b[0m\u001b[1;33m:\u001b[0m\u001b[1;33m\u001b[0m\u001b[1;33m\u001b[0m\u001b[0m\n\u001b[1;32m-> 1796\u001b[1;33m         \u001b[0mself\u001b[0m\u001b[1;33m.\u001b[0m\u001b[0m_validate\u001b[0m\u001b[1;33m(\u001b[0m\u001b[0mdata\u001b[0m\u001b[1;33m)\u001b[0m\u001b[1;33m\u001b[0m\u001b[1;33m\u001b[0m\u001b[0m\n\u001b[0m\u001b[0;32m   1797\u001b[0m         \u001b[0mself\u001b[0m\u001b[1;33m.\u001b[0m\u001b[0m_is_categorical\u001b[0m \u001b[1;33m=\u001b[0m \u001b[0mis_categorical_dtype\u001b[0m\u001b[1;33m(\u001b[0m\u001b[0mdata\u001b[0m\u001b[1;33m)\u001b[0m\u001b[1;33m\u001b[0m\u001b[1;33m\u001b[0m\u001b[0m\n\u001b[0;32m   1798\u001b[0m \u001b[1;33m\u001b[0m\u001b[0m\n",
      "\u001b[1;32m~\\Anaconda3\\lib\\site-packages\\pandas\\core\\strings.py\u001b[0m in \u001b[0;36m_validate\u001b[1;34m(data)\u001b[0m\n\u001b[0;32m   1816\u001b[0m             \u001b[1;31m# (instead of test for object dtype), but that isn't practical for\u001b[0m\u001b[1;33m\u001b[0m\u001b[1;33m\u001b[0m\u001b[1;33m\u001b[0m\u001b[0m\n\u001b[0;32m   1817\u001b[0m             \u001b[1;31m# performance reasons until we have a str dtype (GH 9343)\u001b[0m\u001b[1;33m\u001b[0m\u001b[1;33m\u001b[0m\u001b[1;33m\u001b[0m\u001b[0m\n\u001b[1;32m-> 1818\u001b[1;33m             raise AttributeError(\"Can only use .str accessor with string \"\n\u001b[0m\u001b[0;32m   1819\u001b[0m                                  \u001b[1;34m\"values, which use np.object_ dtype in \"\u001b[0m\u001b[1;33m\u001b[0m\u001b[1;33m\u001b[0m\u001b[0m\n\u001b[0;32m   1820\u001b[0m                                  \"pandas\")\n",
      "\u001b[1;31mAttributeError\u001b[0m: Can only use .str accessor with string values, which use np.object_ dtype in pandas"
     ]
    }
   ],
   "source": [
    "#####df['departure_from_origin']= df['departure_from_origin'].str.split(\" \", n = 1, expand = False) \n",
    "df.head()"
   ]
  },
  {
   "cell_type": "code",
   "execution_count": null,
   "metadata": {},
   "outputs": [],
   "source": []
  },
  {
   "cell_type": "code",
   "execution_count": null,
   "metadata": {},
   "outputs": [],
   "source": []
  },
  {
   "cell_type": "code",
   "execution_count": null,
   "metadata": {},
   "outputs": [],
   "source": []
  },
  {
   "cell_type": "code",
   "execution_count": null,
   "metadata": {},
   "outputs": [],
   "source": []
  },
  {
   "cell_type": "code",
   "execution_count": null,
   "metadata": {},
   "outputs": [],
   "source": [
    "\n",
    "\n"
   ]
  },
  {
   "cell_type": "code",
   "execution_count": null,
   "metadata": {},
   "outputs": [],
   "source": [
    "df.head()"
   ]
  },
  {
   "cell_type": "code",
   "execution_count": null,
   "metadata": {},
   "outputs": [],
   "source": [
    "# To count the number of bustops in single routes\n",
    "\n",
    "df['Route BusStops'] = df['Bus Stop'].apply(lambda x: len(x.split(',')))\n",
    "df.head()"
   ]
  },
  {
   "cell_type": "code",
   "execution_count": null,
   "metadata": {},
   "outputs": [],
   "source": [
    "#df.to_csv('Modified_BMTC_data.csv')"
   ]
  },
  {
   "cell_type": "code",
   "execution_count": null,
   "metadata": {},
   "outputs": [],
   "source": [
    "df1 =pd.read_csv('Modified_BMTC_data.csv')\n",
    "df1"
   ]
  },
  {
   "cell_type": "code",
   "execution_count": null,
   "metadata": {},
   "outputs": [],
   "source": [
    "# To count the number of stages in single routes\n",
    "\n",
    "df1['No Frequency'] = df1['departure_from_origin'].apply(lambda x: len(x.split(',')))\n",
    "df1.head()"
   ]
  },
  {
   "cell_type": "code",
   "execution_count": null,
   "metadata": {},
   "outputs": [],
   "source": []
  }
 ],
 "metadata": {
  "kernelspec": {
   "display_name": "Python 3",
   "language": "python",
   "name": "python3"
  },
  "language_info": {
   "codemirror_mode": {
    "name": "ipython",
    "version": 3
   },
   "file_extension": ".py",
   "mimetype": "text/x-python",
   "name": "python",
   "nbconvert_exporter": "python",
   "pygments_lexer": "ipython3",
   "version": "3.7.3"
  }
 },
 "nbformat": 4,
 "nbformat_minor": 2
}
