{
 "cells": [
  {
   "cell_type": "code",
   "execution_count": 1,
   "metadata": {},
   "outputs": [
    {
     "name": "stdout",
     "output_type": "stream",
     "text": [
      "lemon \n",
      "apples\n",
      "ornages\n",
      "banana\n"
     ]
    }
   ],
   "source": [
    "\n",
    "for i in  [ \"lemon \",\"apples\",'ornages', \"banana\"]:\n",
    "    if i == 'oranges':\n",
    "        break\n",
    "    print(i)"
   ]
  },
  {
   "cell_type": "code",
   "execution_count": 2,
   "metadata": {},
   "outputs": [
    {
     "name": "stdout",
     "output_type": "stream",
     "text": [
      "lemon\n",
      "apple\n",
      "banana\n"
     ]
    }
   ],
   "source": [
    "for i in ['lemon', 'apple','oranges','banana']:\n",
    "    if i == 'oranges':\n",
    "        continue\n",
    "    print(i)"
   ]
  },
  {
   "cell_type": "code",
   "execution_count": 3,
   "metadata": {},
   "outputs": [
    {
     "name": "stdout",
     "output_type": "stream",
     "text": [
      "yellow\n"
     ]
    }
   ],
   "source": [
    "color = [\"red\",\"yellow\",\"green\",\"purple\"]\n",
    "for i in color:\n",
    "    if i == \"yellow\":\n",
    "        break\n",
    "print(i)"
   ]
  },
  {
   "cell_type": "code",
   "execution_count": 4,
   "metadata": {},
   "outputs": [
    {
     "name": "stdout",
     "output_type": "stream",
     "text": [
      "good\n"
     ]
    }
   ],
   "source": [
    "marks =10\n",
    "if marks>80:\n",
    "    print(\"Excelent\")\n",
    "else:\n",
    "    print(\"good\")"
   ]
  },
  {
   "cell_type": "code",
   "execution_count": 5,
   "metadata": {},
   "outputs": [
    {
     "name": "stdout",
     "output_type": "stream",
     "text": [
      "Even\n"
     ]
    }
   ],
   "source": [
    "fact =2 \n",
    "num =12\n",
    "if num%fact == 0:\n",
    "    print(\"Even\")\n",
    "else:\n",
    "    print(\"Odd\")"
   ]
  },
  {
   "cell_type": "code",
   "execution_count": 6,
   "metadata": {},
   "outputs": [
    {
     "name": "stdout",
     "output_type": "stream",
     "text": [
      "good\n",
      "end\n"
     ]
    }
   ],
   "source": [
    "m=40\n",
    "if(m>20):\n",
    "    print(\"good\")\n",
    "else:\n",
    "    print(\"average\")\n",
    "print(\"end\")"
   ]
  },
  {
   "cell_type": "code",
   "execution_count": 7,
   "metadata": {},
   "outputs": [
    {
     "name": "stdout",
     "output_type": "stream",
     "text": [
      "enter the value 1\n",
      "value of give number is 1 Odd number\n"
     ]
    }
   ],
   "source": [
    "k = int(input(\"enter the value \"))\n",
    "if  k%2==0:\n",
    "    print(f\"Value of k is {k} Even number\")\n",
    "else:\n",
    "    print(f\"value of give number is {k} Odd number\")"
   ]
  },
  {
   "cell_type": "code",
   "execution_count": 8,
   "metadata": {},
   "outputs": [
    {
     "data": {
      "text/plain": [
       "'WEL come to python'"
      ]
     },
     "execution_count": 8,
     "metadata": {},
     "output_type": "execute_result"
    }
   ],
   "source": [
    "word = \"WEL come to python\"\n",
    "word"
   ]
  },
  {
   "cell_type": "code",
   "execution_count": 9,
   "metadata": {},
   "outputs": [
    {
     "data": {
      "text/plain": [
       "'WEL COME TO PYTHON'"
      ]
     },
     "execution_count": 9,
     "metadata": {},
     "output_type": "execute_result"
    }
   ],
   "source": [
    "word.upper()\n"
   ]
  },
  {
   "cell_type": "code",
   "execution_count": 10,
   "metadata": {},
   "outputs": [
    {
     "data": {
      "text/plain": [
       "['WEL', 'come', 'to', 'python']"
      ]
     },
     "execution_count": 10,
     "metadata": {},
     "output_type": "execute_result"
    }
   ],
   "source": [
    "word.split()"
   ]
  },
  {
   "cell_type": "code",
   "execution_count": 11,
   "metadata": {},
   "outputs": [
    {
     "data": {
      "text/plain": [
       "['WEL com', ' to python']"
      ]
     },
     "execution_count": 11,
     "metadata": {},
     "output_type": "execute_result"
    }
   ],
   "source": [
    "word.split(\"e\")"
   ]
  },
  {
   "cell_type": "code",
   "execution_count": 12,
   "metadata": {},
   "outputs": [
    {
     "data": {
      "text/plain": [
       "True"
      ]
     },
     "execution_count": 12,
     "metadata": {},
     "output_type": "execute_result"
    }
   ],
   "source": [
    "word2 =\"python\"\n",
    "word2.isalpha()"
   ]
  },
  {
   "cell_type": "code",
   "execution_count": 13,
   "metadata": {},
   "outputs": [
    {
     "data": {
      "text/plain": [
       "'wel COME TO PYTHON'"
      ]
     },
     "execution_count": 13,
     "metadata": {},
     "output_type": "execute_result"
    }
   ],
   "source": [
    "#swap function convert the upper case to lower case or lower to upper , opposite  to existed string \n",
    "word.swapcase()"
   ]
  },
  {
   "cell_type": "code",
   "execution_count": 14,
   "metadata": {},
   "outputs": [
    {
     "name": "stdout",
     "output_type": "stream",
     "text": [
      "NewHorizon\n",
      "New Horizon\n"
     ]
    }
   ],
   "source": [
    "#string function  \n",
    "str1 = \"New\"\n",
    "str2 = \"Horizon\"\n",
    "print(str1 + str2)\n",
    "print(str1+ ' ' +str2)"
   ]
  },
  {
   "cell_type": "code",
   "execution_count": 15,
   "metadata": {},
   "outputs": [
    {
     "name": "stdout",
     "output_type": "stream",
     "text": [
      "Hello, jhon !\n"
     ]
    }
   ],
   "source": [
    "#This prints out \"hello jhon \"\n",
    "name = \"jhon \"\n",
    "print(\"Hello, %s!\" %name )"
   ]
  },
  {
   "cell_type": "code",
   "execution_count": 16,
   "metadata": {},
   "outputs": [
    {
     "name": "stdout",
     "output_type": "stream",
     "text": [
      "Hello my name is Jhon and my age is 23\n"
     ]
    }
   ],
   "source": [
    "#this prints out \"jhon i s 23 years old\"\n",
    "name = \"Jhon\"\n",
    "age =23\n",
    "print(\"Hello my name is %s and my age is %d\" % (name,age))"
   ]
  },
  {
   "cell_type": "code",
   "execution_count": 17,
   "metadata": {},
   "outputs": [
    {
     "name": "stdout",
     "output_type": "stream",
     "text": [
      "I have apples and lemons\n"
     ]
    }
   ],
   "source": [
    "x = \"apples\"\n",
    "y = \"lemons\"\n",
    "z = \"I have %s and %s\" %(x,y)\n",
    "print(z)"
   ]
  },
  {
   "cell_type": "code",
   "execution_count": 18,
   "metadata": {},
   "outputs": [
    {
     "name": "stdout",
     "output_type": "stream",
     "text": [
      "This is my name jhon and i am 24 year old\n"
     ]
    }
   ],
   "source": [
    "name = \"jhon\"\n",
    "age = 24\n",
    "print(\"This is my name {} and i am {} year old\".format(name, age))"
   ]
  },
  {
   "cell_type": "code",
   "execution_count": 19,
   "metadata": {},
   "outputs": [
    {
     "name": "stdout",
     "output_type": "stream",
     "text": [
      "spam and eggs\n",
      "eggs and spam\n"
     ]
    }
   ],
   "source": [
    "print('{0} and {1}'.format('spam','eggs'))\n",
    "print('{1} and {0}'.format('spam','eggs'))"
   ]
  },
  {
   "cell_type": "code",
   "execution_count": 20,
   "metadata": {},
   "outputs": [],
   "source": [
    "#functions"
   ]
  },
  {
   "cell_type": "code",
   "execution_count": 21,
   "metadata": {},
   "outputs": [],
   "source": [
    "#help()"
   ]
  },
  {
   "cell_type": "code",
   "execution_count": 22,
   "metadata": {},
   "outputs": [],
   "source": [
    "def userlogin():\n",
    "    if userid == \"password\":\n",
    "        print(\"successully logged in\")\n",
    "    else:\n",
    "        print(\"incorrect user is and password\")"
   ]
  },
  {
   "cell_type": "code",
   "execution_count": null,
   "metadata": {},
   "outputs": [],
   "source": []
  },
  {
   "cell_type": "code",
   "execution_count": 24,
   "metadata": {},
   "outputs": [],
   "source": [
    "def myfunc():\n",
    "    a=10\n",
    "    b=20\n",
    "    c= a*b\n",
    "    print(\"the value of c is \", c)"
   ]
  },
  {
   "cell_type": "code",
   "execution_count": 25,
   "metadata": {},
   "outputs": [
    {
     "name": "stdout",
     "output_type": "stream",
     "text": [
      "the value of c is  200\n"
     ]
    }
   ],
   "source": [
    "myfunc()"
   ]
  },
  {
   "cell_type": "code",
   "execution_count": 26,
   "metadata": {},
   "outputs": [],
   "source": [
    "def areaofractangle(bredth,length):\n",
    "    area = length * bredth\n",
    "    print(\"area of ractangle:\",area)\n",
    "    "
   ]
  },
  {
   "cell_type": "code",
   "execution_count": 27,
   "metadata": {},
   "outputs": [
    {
     "name": "stdout",
     "output_type": "stream",
     "text": [
      "area of ractangle: 50\n"
     ]
    }
   ],
   "source": [
    "areaofractangle(5,10)"
   ]
  },
  {
   "cell_type": "code",
   "execution_count": 28,
   "metadata": {},
   "outputs": [],
   "source": [
    "def AreaOfCircle(radius):\n",
    "    pi=3.143\n",
    "    area= pi*(radius**2)\n",
    "    print(\"Area Of circle is \", area)"
   ]
  },
  {
   "cell_type": "code",
   "execution_count": 29,
   "metadata": {},
   "outputs": [
    {
     "name": "stdout",
     "output_type": "stream",
     "text": [
      "Area Of circle is  201.152\n"
     ]
    }
   ],
   "source": [
    "AreaOfCircle(8)"
   ]
  },
  {
   "cell_type": "code",
   "execution_count": 32,
   "metadata": {},
   "outputs": [],
   "source": [
    "def sqrt():\n",
    "    p = int(input(\"enter the value for sqrt :\"))\n",
    "    print(\"Squareroot of entered value is \",(p** .5))"
   ]
  },
  {
   "cell_type": "code",
   "execution_count": 33,
   "metadata": {},
   "outputs": [
    {
     "name": "stdout",
     "output_type": "stream",
     "text": [
      "enter the value for sqrt :55\n",
      "Squareroot of entered value is  7.416198487095663\n"
     ]
    }
   ],
   "source": [
    "sqrt()"
   ]
  },
  {
   "cell_type": "code",
   "execution_count": 42,
   "metadata": {},
   "outputs": [],
   "source": [
    "def run():\n",
    "    for x in range(6):\n",
    "        print(x, end = \" \")\n"
   ]
  },
  {
   "cell_type": "code",
   "execution_count": 43,
   "metadata": {},
   "outputs": [
    {
     "name": "stdout",
     "output_type": "stream",
     "text": [
      "0 1 2 3 4 5 "
     ]
    }
   ],
   "source": [
    "run()"
   ]
  },
  {
   "cell_type": "code",
   "execution_count": 50,
   "metadata": {},
   "outputs": [],
   "source": [
    "def run():\n",
    "    for x  in range(10):\n",
    "        if x== 5:\n",
    "            return \n",
    "        print(\"practice Python\")\n"
   ]
  },
  {
   "cell_type": "code",
   "execution_count": 51,
   "metadata": {},
   "outputs": [
    {
     "name": "stdout",
     "output_type": "stream",
     "text": [
      "practice Python\n",
      "practice Python\n",
      "practice Python\n",
      "practice Python\n",
      "practice Python\n"
     ]
    }
   ],
   "source": [
    "#\n",
    "run()"
   ]
  },
  {
   "cell_type": "code",
   "execution_count": 53,
   "metadata": {},
   "outputs": [],
   "source": [
    "def sumfunc(arg1,arg2):\n",
    "    #add both the parameters and return them\n",
    "    total = arg1 + arg2\n",
    "    print(\"inside the function:\",total)\n",
    "    return total"
   ]
  },
  {
   "cell_type": "code",
   "execution_count": 54,
   "metadata": {},
   "outputs": [
    {
     "name": "stdout",
     "output_type": "stream",
     "text": [
      "inside the function: 30\n"
     ]
    }
   ],
   "source": [
    "tot = sumfunc(10,20)"
   ]
  },
  {
   "cell_type": "code",
   "execution_count": 62,
   "metadata": {},
   "outputs": [],
   "source": [
    "# using * you can give N args\n",
    "\n",
    "def pluse(*args):\n",
    "    return sum(args), max(args), min(args)"
   ]
  },
  {
   "cell_type": "code",
   "execution_count": 63,
   "metadata": {},
   "outputs": [
    {
     "data": {
      "text/plain": [
       "(38, 9, 4)"
      ]
     },
     "execution_count": 63,
     "metadata": {},
     "output_type": "execute_result"
    }
   ],
   "source": [
    "pluse(4,5,5,7,8,9)"
   ]
  },
  {
   "cell_type": "code",
   "execution_count": 68,
   "metadata": {},
   "outputs": [],
   "source": [
    "def sumfunc(*num):\n",
    "    s=0\n",
    "    for n in num:\n",
    "        s+=n\n",
    "    return s"
   ]
  },
  {
   "cell_type": "code",
   "execution_count": 69,
   "metadata": {},
   "outputs": [
    {
     "data": {
      "text/plain": [
       "13"
      ]
     },
     "execution_count": 69,
     "metadata": {},
     "output_type": "execute_result"
    }
   ],
   "source": [
    "sumfunc(1,3,4,5,)"
   ]
  },
  {
   "cell_type": "code",
   "execution_count": null,
   "metadata": {},
   "outputs": [],
   "source": []
  }
 ],
 "metadata": {
  "kernelspec": {
   "display_name": "Python 3",
   "language": "python",
   "name": "python3"
  },
  "language_info": {
   "codemirror_mode": {
    "name": "ipython",
    "version": 3
   },
   "file_extension": ".py",
   "mimetype": "text/x-python",
   "name": "python",
   "nbconvert_exporter": "python",
   "pygments_lexer": "ipython3",
   "version": "3.7.3"
  }
 },
 "nbformat": 4,
 "nbformat_minor": 2
}
