{
 "cells": [
  {
   "cell_type": "markdown",
   "metadata": {},
   "source": [
    "The program computes simple interest given the principle amount, rate and time.\n",
    "\n",
    "Problem Solution\n",
    "1. Take in the values for principle amount, rate and time.\n",
    "2. Using the formula, compute the simple interest.\n",
    "3. Print the value for the computed interest.\n",
    "4. Exit."
   ]
  },
  {
   "cell_type": "code",
   "execution_count": 5,
   "metadata": {},
   "outputs": [
    {
     "name": "stdout",
     "output_type": "stream",
     "text": [
      "Enter the principle amount\n"
     ]
    },
    {
     "ename": "ValueError",
     "evalue": "could not convert string to float: ",
     "output_type": "error",
     "traceback": [
      "\u001b[1;31m---------------------------------------------------------------------------\u001b[0m",
      "\u001b[1;31mValueError\u001b[0m                                Traceback (most recent call last)",
      "\u001b[1;32m<ipython-input-5-0726f2c2fd21>\u001b[0m in \u001b[0;36m<module>\u001b[1;34m\u001b[0m\n\u001b[1;32m----> 1\u001b[1;33m \u001b[0mprinciple\u001b[0m \u001b[1;33m=\u001b[0m \u001b[0mfloat\u001b[0m\u001b[1;33m(\u001b[0m\u001b[0minput\u001b[0m\u001b[1;33m(\u001b[0m\u001b[1;34m\"Enter the principle amount\"\u001b[0m\u001b[1;33m)\u001b[0m\u001b[1;33m)\u001b[0m\u001b[1;33m\u001b[0m\u001b[1;33m\u001b[0m\u001b[0m\n\u001b[0m\u001b[0;32m      2\u001b[0m \u001b[0mtime\u001b[0m \u001b[1;33m=\u001b[0m \u001b[0mint\u001b[0m\u001b[1;33m(\u001b[0m\u001b[0minput\u001b[0m\u001b[1;33m(\u001b[0m\u001b[1;34m\"Enter the time in (years):\"\u001b[0m\u001b[1;33m)\u001b[0m\u001b[1;33m)\u001b[0m\u001b[1;33m\u001b[0m\u001b[1;33m\u001b[0m\u001b[0m\n\u001b[0;32m      3\u001b[0m \u001b[0mrate\u001b[0m \u001b[1;33m=\u001b[0m \u001b[0mfloat\u001b[0m\u001b[1;33m(\u001b[0m\u001b[0minput\u001b[0m\u001b[1;33m(\u001b[0m\u001b[1;34m\"enter the intreset rate: \"\u001b[0m\u001b[1;33m)\u001b[0m\u001b[1;33m)\u001b[0m\u001b[1;33m\u001b[0m\u001b[1;33m\u001b[0m\u001b[0m\n\u001b[0;32m      4\u001b[0m \u001b[0msimple_interest\u001b[0m \u001b[1;33m=\u001b[0m \u001b[1;33m(\u001b[0m\u001b[0mprinciple\u001b[0m\u001b[1;33m*\u001b[0m\u001b[0mtime\u001b[0m\u001b[1;33m*\u001b[0m\u001b[0mrate\u001b[0m\u001b[1;33m)\u001b[0m\u001b[1;33m/\u001b[0m\u001b[1;36m100\u001b[0m\u001b[1;33m\u001b[0m\u001b[1;33m\u001b[0m\u001b[0m\n\u001b[0;32m      5\u001b[0m \u001b[0mprint\u001b[0m\u001b[1;33m(\u001b[0m\u001b[1;34m\"The simple intrest is:\"\u001b[0m\u001b[1;33m,\u001b[0m \u001b[0msimple_interest\u001b[0m\u001b[1;33m)\u001b[0m\u001b[1;33m\u001b[0m\u001b[1;33m\u001b[0m\u001b[0m\n",
      "\u001b[1;31mValueError\u001b[0m: could not convert string to float: "
     ]
    }
   ],
   "source": [
    "principle = float(input(\"Enter the principle amount\"))\n",
    "time = int(input(\"Enter the time in (years):\"))\n",
    "rate = float(input(\"enter the intreset rate: \"))\n",
    "simple_interest = (principle*time*rate)/100\n",
    "print(\"The simple intrest is:\", simple_interest)"
   ]
  },
  {
   "cell_type": "markdown",
   "metadata": {},
   "source": [
    "2.The program takes in a year and checks whether it is a leap year or not.\n",
    "\n",
    "Problem Solution\n",
    "1. Take the value of the year as input\n",
    "2. Using an if-statement, check whether the year is a leap year or not\n",
    "3. Print the final result\n",
    "4. Exit"
   ]
  },
  {
   "cell_type": "code",
   "execution_count": 11,
   "metadata": {},
   "outputs": [
    {
     "name": "stdout",
     "output_type": "stream",
     "text": [
      "enter the year to be checked: 2019\n",
      "The year isn't a leap year!\n"
     ]
    }
   ],
   "source": [
    "year = int(input(\"enter the year to be checked: \"))\n",
    "if(year%4==0 and year%100!=0 or year%400==0):\n",
    "    print(\"The year is a leap year!\")\n",
    "else:\n",
    "    print(\"The year isn't a leap year!\")"
   ]
  },
  {
   "cell_type": "markdown",
   "metadata": {},
   "source": [
    "3.The program reads the height in centimeters and then converts the height to feet and inches.\n",
    "\n",
    "Problem Solution\n",
    "1. Take the height in centimeters and store it in a variable.\n",
    "2. Convert the height in centimeters into inches and feet.\n",
    "3. Print the length in inches and feet.\n",
    "4. Exit."
   ]
  },
  {
   "cell_type": "markdown",
   "metadata": {},
   "source": [
    "3The program reads the height in centimeters and then converts the height to feet and inches.\n",
    "\n",
    "Problem Solution\n",
    "1. Take the height in centimeters and store it in a variable.\n",
    "2. Convert the height in centimeters into inches and feet.\n",
    "3. Print the length in inches and feet.\n",
    "4. Exit."
   ]
  },
  {
   "cell_type": "code",
   "execution_count": 15,
   "metadata": {},
   "outputs": [
    {
     "name": "stdout",
     "output_type": "stream",
     "text": [
      "enter the height in centimeter166\n",
      "The length in inches 65.4\n",
      "The length in feet 5.44\n"
     ]
    }
   ],
   "source": [
    "cm = int(input(\"enter the height in centimeter\"))\n",
    "inches = 0.394*cm\n",
    "feet = 0.0328*cm\n",
    "print(\"The length in inches\", round(inches,2))\n",
    "print(\"The length in feet\", round(feet,2))"
   ]
  },
  {
   "cell_type": "markdown",
   "metadata": {},
   "source": [
    "4.The program takes the temperature in Celsius and converts it to Fahrenheit.\n",
    "\n",
    "Problem Solution\n",
    "1. Take the value of temperature in Celsius and store it in a variable.\n",
    "2. Convert it to Fahrenheit.\n",
    "3. Print the final result.\n",
    "4. Exit."
   ]
  },
  {
   "cell_type": "code",
   "execution_count": 16,
   "metadata": {},
   "outputs": [
    {
     "name": "stdout",
     "output_type": "stream",
     "text": [
      "Enter the temperature in celcius22\n",
      "Temperature in farenheit 71.6\n"
     ]
    }
   ],
   "source": [
    "celsius  = int(input(\"Enter the temperature in celcius\"))\n",
    "f=(celsius*1.8)+32\n",
    "print(\"Temperature in farenheit\",f)"
   ]
  },
  {
   "cell_type": "markdown",
   "metadata": {},
   "source": [
    "The program takes a number and determines whether a given number is even or odd recursively.\n",
    "\n",
    "Problem Solution\n",
    "1. Take a number from the user and store it in a variable.\n",
    "2. Pass the number as an argument to a recursive function.\n",
    "3. Define the base condition as the number to be lesser than 2.\n",
    "4. Otherwise call the function recursively with the number minus 2.\n",
    "5. Then return the result and check if the number is even or odd.\n",
    "6. Print the final result.\n",
    "7. Exit.’."
   ]
  },
  {
   "cell_type": "code",
   "execution_count": 20,
   "metadata": {},
   "outputs": [
    {
     "name": "stdout",
     "output_type": "stream",
     "text": [
      "Enter number:0\n",
      "Number is even\n"
     ]
    }
   ],
   "source": [
    "def check(n):\n",
    "    if (n<2):\n",
    "        return (n % 2 ==0)\n",
    "    return(check(n-2))\n",
    "n = int(input(\"Enter number:\"))\n",
    "if(check(n)==True):\n",
    "    print(\"Number is even\")\n",
    "else:\n",
    "    print(\"number is odd\")"
   ]
  },
  {
   "cell_type": "raw",
   "metadata": {},
   "source": [
    "The program takes a string and determines how many times a given letter occurs in a string recursively.\n",
    "\n",
    "Problem Solution\n",
    "1. Take a string and a character from the user and store it in different variables.\n",
    "2. Pass the string and the characters as arguments to a recursive function.\n",
    "3. Pass the base condition that the string isn’t empty.\n",
    "4. Check if the first character of the string is equal to the character taken from the user and if it is equal, increment the count.\n",
    "5. Progress the string either wise and print the number of times the letter occurs in the string.\n",
    "6. Exit."
   ]
  },
  {
   "cell_type": "code",
   "execution_count": 25,
   "metadata": {},
   "outputs": [
    {
     "name": "stdout",
     "output_type": "stream",
     "text": [
      "enter the stringsentence\n",
      "Enter the charcter to checke\n",
      "count is\n",
      "3\n"
     ]
    }
   ],
   "source": [
    "def check(string, ch):\n",
    "    if not string:\n",
    "        return 0\n",
    "    elif string[0]==ch:\n",
    "        return 1+check(string[1:],ch)\n",
    "    else:\n",
    "        return check(string[1:],ch)\n",
    "\n",
    "string = input(\"enter the string\")\n",
    "ch= input(\"Enter the charcter to check\")\n",
    "print(\"count is\")\n",
    "print(check(string ,ch))"
   ]
  },
  {
   "cell_type": "markdown",
   "metadata": {},
   "source": [
    "The program takes a number and determines the factorial of the number using recursion.\n",
    "\n",
    "Problem Solution\n",
    "1. Take a number from the user and store it in a variable.\n",
    "2. Pass the number as an argument to a recursive factorial function.\n",
    "3. Define the base condition as the number to be lesser than or equal to 1 and return 1 if it is.\n",
    "4. Otherwise call the function recursively with the number minus 1 multiplied by the number itself.\n",
    "5. Then return the result and print the factorial of the number.\n",
    "6. Exit."
   ]
  },
  {
   "cell_type": "code",
   "execution_count": 26,
   "metadata": {},
   "outputs": [
    {
     "name": "stdout",
     "output_type": "stream",
     "text": [
      "Enter the number5\n",
      "Factorial : 120\n"
     ]
    }
   ],
   "source": [
    "def factorial(n):\n",
    "    if(n<=1):\n",
    "        return 1\n",
    "    else:\n",
    "        return (n*factorial(n-1))\n",
    "n = int(input(\"Enter the number\"))\n",
    "print(\"Factorial :\", factorial(n))"
   ]
  },
  {
   "cell_type": "markdown",
   "metadata": {},
   "source": [
    "The program takes a list and finds the sum of elements in a list recursively.\n",
    "\n",
    "Problem Solution\n",
    "1. Define a recursive function which takes an array and the size of the array as arguments.\n",
    "2. Declare an empty list and initialize it to an empty list.\n",
    "3. Consider a for loop to accept values for the list.\n",
    "4. Take the number of elements in the list and store it in a variable.\n",
    "5. Accept the values into the list using another for loop and insert into the list.\n",
    "6. Pass the list and the size of the list as arguments to the recursive function.\n",
    "7. If the size of the list is zero, return 0.\n",
    "8. Otherwise return the sum of the last element of the list along with the recursive function call (with the size reduced by 1).\n",
    "9. The returned value is stored in a variable and the final sum is printed.\n",
    "9. Exit."
   ]
  },
  {
   "cell_type": "code",
   "execution_count": null,
   "metadata": {},
   "outputs": [],
   "source": []
  }
 ],
 "metadata": {
  "kernelspec": {
   "display_name": "Python 3",
   "language": "python",
   "name": "python3"
  },
  "language_info": {
   "codemirror_mode": {
    "name": "ipython",
    "version": 3
   },
   "file_extension": ".py",
   "mimetype": "text/x-python",
   "name": "python",
   "nbconvert_exporter": "python",
   "pygments_lexer": "ipython3",
   "version": "3.7.3"
  }
 },
 "nbformat": 4,
 "nbformat_minor": 2
}
