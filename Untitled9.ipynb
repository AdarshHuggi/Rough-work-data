{
 "cells": [
  {
   "cell_type": "code",
   "execution_count": 1,
   "metadata": {},
   "outputs": [
    {
     "name": "stdout",
     "output_type": "stream",
     "text": [
      "Enter the date: 22/04/2021\n",
      "The increment date is : 23 4 2021\n"
     ]
    }
   ],
   "source": [
    "date = input(\"Enter the date: \")\n",
    "dd,mm,yy =date.split(\"/\")\n",
    "dd=int(dd)\n",
    "mm=int(mm)\n",
    "yy =int(yy)\n",
    "\n",
    "if(mm==1 or mm==3 or mm==5 or mm==8 or mm==10 or mm==12):\n",
    "    max1 = 31\n",
    "elif(mm==4 or mm==6 or mm==9 or mm==1):\n",
    "    max1=30\n",
    "elif(yy%4==0 and yy%100!=0 or yy%400==0):\n",
    "    max1=29\n",
    "else:\n",
    "    max1=28\n",
    "if(mm<1 or mm>12):\n",
    "    print(\"Date is invalid\")\n",
    "elif(dd==max1 and mm!=12):\n",
    "    dd=1\n",
    "    mm=mm+1\n",
    "    print(\"The increated date is :\", dd,mm,yy)\n",
    "elif(dd==31 and mm==12):\n",
    "    dd=1\n",
    "    mm=1\n",
    "    yy=yy+1\n",
    "    print(\"the increated date is \", dd,mm,yy)\n",
    "else:\n",
    "    dd=dd+1\n",
    "    print(\"The increment date is :\", dd,mm,yy)"
   ]
  },
  {
   "cell_type": "code",
   "execution_count": null,
   "metadata": {},
   "outputs": [],
   "source": []
  }
 ],
 "metadata": {
  "kernelspec": {
   "display_name": "Python 3",
   "language": "python",
   "name": "python3"
  },
  "language_info": {
   "codemirror_mode": {
    "name": "ipython",
    "version": 3
   },
   "file_extension": ".py",
   "mimetype": "text/x-python",
   "name": "python",
   "nbconvert_exporter": "python",
   "pygments_lexer": "ipython3",
   "version": "3.7.3"
  }
 },
 "nbformat": 4,
 "nbformat_minor": 2
}
