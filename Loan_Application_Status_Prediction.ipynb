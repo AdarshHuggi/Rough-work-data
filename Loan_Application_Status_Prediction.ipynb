{
  "nbformat": 4,
  "nbformat_minor": 0,
  "metadata": {
    "kernelspec": {
      "display_name": "Python 3",
      "language": "python",
      "name": "python3"
    },
    "language_info": {
      "codemirror_mode": {
        "name": "ipython",
        "version": 3
      },
      "file_extension": ".py",
      "mimetype": "text/x-python",
      "name": "python",
      "nbconvert_exporter": "python",
      "pygments_lexer": "ipython3",
      "version": "3.7.3"
    },
    "colab": {
      "name": "Loan Application Status Prediction.ipynb",
      "provenance": [],
      "collapsed_sections": []
    }
  },
  "cells": [
    {
      "cell_type": "markdown",
      "metadata": {
        "id": "qFyxP1dxYY75"
      },
      "source": [
        "# Loan Application Status Prediction"
      ]
    },
    {
      "cell_type": "markdown",
      "metadata": {
        "id": "VwhhavDZYY77"
      },
      "source": [
        "Description:\n",
        "This dataset includes details of applicants who have applied for loan. variable like credit history, loan amount, their income, dependents variables is Loan status\n",
        "\n",
        "\n",
        "Feature Variables:\n",
        "\n",
        "- Loan_ID\n",
        "\n",
        "- Gender\n",
        "\n",
        "- Married\n",
        "\n",
        "- Dependents\n",
        "\n",
        "- Education\n",
        "\n",
        "- Self_Employed\n",
        "\n",
        "- ApplicantIncome\n",
        "\n",
        "- CoapplicantIncome\n",
        "\n",
        "- Loan_Amount\n",
        "\n",
        "- Loan_Amount_Term\n",
        "\n",
        "- Credit History\n",
        "\n",
        "- Property_Area"
      ]
    },
    {
      "cell_type": "code",
      "metadata": {
        "id": "v3ZVFKW4YY78"
      },
      "source": [
        "# importing the libraries \n",
        "\n",
        "import pandas as pd\n",
        "import numpy as np\n",
        "import seaborn as sns\n",
        "import matplotlib.pyplot as plt\n",
        "import sklearn\n",
        "from sklearn.metrics import accuracy_score\n",
        "from sklearn.metrics import confusion_matrix,classification_report\n",
        "from sklearn.metrics import classification_report, confusion_matrix\n",
        "from sklearn.model_selection import train_test_split\n",
        "from scipy.stats import zscore\n",
        "import warnings\n",
        "warnings.filterwarnings('ignore')"
      ],
      "execution_count": 110,
      "outputs": []
    },
    {
      "cell_type": "code",
      "metadata": {
        "colab": {
          "base_uri": "https://localhost:8080/",
          "height": 236
        },
        "id": "oEFhWGLsYY79",
        "outputId": "6c6e6808-0f21-46ac-accc-037ed0fbf062"
      },
      "source": [
        "#loading the data set\n",
        "df= pd.read_csv('loan_prediction.csv')\n",
        "df.head()"
      ],
      "execution_count": 111,
      "outputs": [
        {
          "output_type": "execute_result",
          "data": {
            "text/html": [
              "<div>\n",
              "<style scoped>\n",
              "    .dataframe tbody tr th:only-of-type {\n",
              "        vertical-align: middle;\n",
              "    }\n",
              "\n",
              "    .dataframe tbody tr th {\n",
              "        vertical-align: top;\n",
              "    }\n",
              "\n",
              "    .dataframe thead th {\n",
              "        text-align: right;\n",
              "    }\n",
              "</style>\n",
              "<table border=\"1\" class=\"dataframe\">\n",
              "  <thead>\n",
              "    <tr style=\"text-align: right;\">\n",
              "      <th></th>\n",
              "      <th>Loan_ID</th>\n",
              "      <th>Gender</th>\n",
              "      <th>Married</th>\n",
              "      <th>Dependents</th>\n",
              "      <th>Education</th>\n",
              "      <th>Self_Employed</th>\n",
              "      <th>ApplicantIncome</th>\n",
              "      <th>CoapplicantIncome</th>\n",
              "      <th>LoanAmount</th>\n",
              "      <th>Loan_Amount_Term</th>\n",
              "      <th>Credit_History</th>\n",
              "      <th>Property_Area</th>\n",
              "      <th>Loan_Status</th>\n",
              "    </tr>\n",
              "  </thead>\n",
              "  <tbody>\n",
              "    <tr>\n",
              "      <th>0</th>\n",
              "      <td>LP001002</td>\n",
              "      <td>Male</td>\n",
              "      <td>No</td>\n",
              "      <td>0</td>\n",
              "      <td>Graduate</td>\n",
              "      <td>No</td>\n",
              "      <td>5849</td>\n",
              "      <td>0.0</td>\n",
              "      <td>NaN</td>\n",
              "      <td>360.0</td>\n",
              "      <td>1.0</td>\n",
              "      <td>Urban</td>\n",
              "      <td>Y</td>\n",
              "    </tr>\n",
              "    <tr>\n",
              "      <th>1</th>\n",
              "      <td>LP001003</td>\n",
              "      <td>Male</td>\n",
              "      <td>Yes</td>\n",
              "      <td>1</td>\n",
              "      <td>Graduate</td>\n",
              "      <td>No</td>\n",
              "      <td>4583</td>\n",
              "      <td>1508.0</td>\n",
              "      <td>128.0</td>\n",
              "      <td>360.0</td>\n",
              "      <td>1.0</td>\n",
              "      <td>Rural</td>\n",
              "      <td>N</td>\n",
              "    </tr>\n",
              "    <tr>\n",
              "      <th>2</th>\n",
              "      <td>LP001005</td>\n",
              "      <td>Male</td>\n",
              "      <td>Yes</td>\n",
              "      <td>0</td>\n",
              "      <td>Graduate</td>\n",
              "      <td>Yes</td>\n",
              "      <td>3000</td>\n",
              "      <td>0.0</td>\n",
              "      <td>66.0</td>\n",
              "      <td>360.0</td>\n",
              "      <td>1.0</td>\n",
              "      <td>Urban</td>\n",
              "      <td>Y</td>\n",
              "    </tr>\n",
              "    <tr>\n",
              "      <th>3</th>\n",
              "      <td>LP001006</td>\n",
              "      <td>Male</td>\n",
              "      <td>Yes</td>\n",
              "      <td>0</td>\n",
              "      <td>Not Graduate</td>\n",
              "      <td>No</td>\n",
              "      <td>2583</td>\n",
              "      <td>2358.0</td>\n",
              "      <td>120.0</td>\n",
              "      <td>360.0</td>\n",
              "      <td>1.0</td>\n",
              "      <td>Urban</td>\n",
              "      <td>Y</td>\n",
              "    </tr>\n",
              "    <tr>\n",
              "      <th>4</th>\n",
              "      <td>LP001008</td>\n",
              "      <td>Male</td>\n",
              "      <td>No</td>\n",
              "      <td>0</td>\n",
              "      <td>Graduate</td>\n",
              "      <td>No</td>\n",
              "      <td>6000</td>\n",
              "      <td>0.0</td>\n",
              "      <td>141.0</td>\n",
              "      <td>360.0</td>\n",
              "      <td>1.0</td>\n",
              "      <td>Urban</td>\n",
              "      <td>Y</td>\n",
              "    </tr>\n",
              "  </tbody>\n",
              "</table>\n",
              "</div>"
            ],
            "text/plain": [
              "    Loan_ID Gender Married  ... Credit_History Property_Area Loan_Status\n",
              "0  LP001002   Male      No  ...            1.0         Urban           Y\n",
              "1  LP001003   Male     Yes  ...            1.0         Rural           N\n",
              "2  LP001005   Male     Yes  ...            1.0         Urban           Y\n",
              "3  LP001006   Male     Yes  ...            1.0         Urban           Y\n",
              "4  LP001008   Male      No  ...            1.0         Urban           Y\n",
              "\n",
              "[5 rows x 13 columns]"
            ]
          },
          "metadata": {
            "tags": []
          },
          "execution_count": 111
        }
      ]
    },
    {
      "cell_type": "code",
      "metadata": {
        "colab": {
          "base_uri": "https://localhost:8080/"
        },
        "id": "jlVUt_lzYY7_",
        "outputId": "a8695b14-f4f8-4d7e-9f9e-084a3b4c5180"
      },
      "source": [
        "df.shape"
      ],
      "execution_count": 112,
      "outputs": [
        {
          "output_type": "execute_result",
          "data": {
            "text/plain": [
              "(614, 13)"
            ]
          },
          "metadata": {
            "tags": []
          },
          "execution_count": 112
        }
      ]
    },
    {
      "cell_type": "markdown",
      "metadata": {
        "id": "cGwEYDHYYY7_"
      },
      "source": [
        "Observation: Dataset contains the 614 rows and 13 variables "
      ]
    },
    {
      "cell_type": "code",
      "metadata": {
        "colab": {
          "base_uri": "https://localhost:8080/"
        },
        "id": "1rLd4rHdYY8A",
        "outputId": "7b725108-dfcf-43d9-e7e3-91c2c720126e"
      },
      "source": [
        "df.dtypes"
      ],
      "execution_count": 113,
      "outputs": [
        {
          "output_type": "execute_result",
          "data": {
            "text/plain": [
              "Loan_ID               object\n",
              "Gender                object\n",
              "Married               object\n",
              "Dependents            object\n",
              "Education             object\n",
              "Self_Employed         object\n",
              "ApplicantIncome        int64\n",
              "CoapplicantIncome    float64\n",
              "LoanAmount           float64\n",
              "Loan_Amount_Term     float64\n",
              "Credit_History       float64\n",
              "Property_Area         object\n",
              "Loan_Status           object\n",
              "dtype: object"
            ]
          },
          "metadata": {
            "tags": []
          },
          "execution_count": 113
        }
      ]
    },
    {
      "cell_type": "markdown",
      "metadata": {
        "id": "qBNKXS_TYY8A"
      },
      "source": [
        "Observation: Dataset contains the integers, float and objects  data types "
      ]
    },
    {
      "cell_type": "code",
      "metadata": {
        "colab": {
          "base_uri": "https://localhost:8080/"
        },
        "id": "L9N8Iz0tYY8B",
        "outputId": "1fac0933-adc1-4aa5-b3cd-96af4e50176f"
      },
      "source": [
        "df.isnull().sum()"
      ],
      "execution_count": 114,
      "outputs": [
        {
          "output_type": "execute_result",
          "data": {
            "text/plain": [
              "Loan_ID               0\n",
              "Gender               13\n",
              "Married               3\n",
              "Dependents           15\n",
              "Education             0\n",
              "Self_Employed        32\n",
              "ApplicantIncome       0\n",
              "CoapplicantIncome     0\n",
              "LoanAmount           22\n",
              "Loan_Amount_Term     14\n",
              "Credit_History       50\n",
              "Property_Area         0\n",
              "Loan_Status           0\n",
              "dtype: int64"
            ]
          },
          "metadata": {
            "tags": []
          },
          "execution_count": 114
        }
      ]
    },
    {
      "cell_type": "markdown",
      "metadata": {
        "id": "3XiokaioYY8B"
      },
      "source": [
        "Observation: \n",
        "1. dataset contains the null values in \"gender, Married,depedents, self employeed loanammount, loan term, credit history \" these variables contains the null values "
      ]
    },
    {
      "cell_type": "code",
      "metadata": {
        "colab": {
          "base_uri": "https://localhost:8080/",
          "height": 586
        },
        "id": "T8kN67J6YY8C",
        "outputId": "77fcc5e1-7283-497b-8fe3-5523a7fcc4fb"
      },
      "source": [
        "#Heat map to check the null values\n",
        "plt.figure(figsize=[16,8])\n",
        "sns.heatmap(df.isnull(), cbar=False)\n",
        "plt.title('Null values')\n",
        "plt.show()"
      ],
      "execution_count": 115,
      "outputs": [
        {
          "output_type": "display_data",
          "data": {
            "image/png": "[encoded data removed]",
            "text/plain": [
              "<Figure size 1152x576 with 1 Axes>"
            ]
          },
          "metadata": {
            "tags": [],
            "needs_background": "light"
          }
        }
      ]
    },
    {
      "cell_type": "markdown",
      "metadata": {
        "id": "HqoBki3eYY8C"
      },
      "source": [
        "Observation: We clearly see that some of the columns contains the null values no we need to fill or drop the rows  "
      ]
    },
    {
      "cell_type": "code",
      "metadata": {
        "colab": {
          "base_uri": "https://localhost:8080/",
          "height": 67
        },
        "id": "lJusuwzAbk95",
        "outputId": "57b4ab3b-35df-4d79-de85-041ce13a1411"
      },
      "source": [
        "\"\"\"#filling the Nan By mode\n",
        "\n",
        "g_mode = df['Gender'].mode()\n",
        "d_mode = df['Dependents'].mode()\n",
        "s_mode = df['Self_Employed'].mode()\n",
        "c_mode = df['Credit_History'].mode()\n",
        "\n",
        "\n",
        "\n",
        "\n",
        "df['Loan_Amount_Term'].fillna('0', inplace=True)\n",
        "df['Gender'].fillna(g_mode, inplace=True)\n",
        "df['Dependents'].fillna(d_mode, inplace=True)\n",
        "df['Self_Employed'].fillna(s_mode, inplace=True)\n",
        "df['Credit_History'].fillna(c_mode, inplace=True)\n",
        "\"\"\""
      ],
      "execution_count": 120,
      "outputs": [
        {
          "output_type": "execute_result",
          "data": {
            "application/vnd.google.colaboratory.intrinsic+json": {
              "type": "string"
            },
            "text/plain": [
              "\"#filling the Nan By mode\\n\\ng_mode = df['Gender'].mode()\\nd_mode = df['Dependents'].mode()\\ns_mode = df['Self_Employed'].mode()\\nc_mode = df['Credit_History'].mode()\\n\\n\\n\\n\\ndf['Loan_Amount_Term'].fillna('0', inplace=True)\\ndf['Gender'].fillna(g_mode, inplace=True)\\ndf['Dependents'].fillna(d_mode, inplace=True)\\ndf['Self_Employed'].fillna(s_mode, inplace=True)\\ndf['Credit_History'].fillna(c_mode, inplace=True)\\n\""
            ]
          },
          "metadata": {
            "tags": []
          },
          "execution_count": 120
        }
      ]
    },
    {
      "cell_type": "code",
      "metadata": {
        "id": "B66RvHrsbMFh"
      },
      "source": [
        "#We droping the NAN from the dataset\n",
        "df.dropna(inplace=True)"
      ],
      "execution_count": 121,
      "outputs": []
    },
    {
      "cell_type": "code",
      "metadata": {
        "colab": {
          "base_uri": "https://localhost:8080/"
        },
        "id": "yPkunFpKYY8C",
        "outputId": "ba4a0668-e8a8-49dd-f8f8-2f43f7b0fa7d"
      },
      "source": [
        "df.shape"
      ],
      "execution_count": 122,
      "outputs": [
        {
          "output_type": "execute_result",
          "data": {
            "text/plain": [
              "(492, 13)"
            ]
          },
          "metadata": {
            "tags": []
          },
          "execution_count": 122
        }
      ]
    },
    {
      "cell_type": "code",
      "metadata": {
        "colab": {
          "base_uri": "https://localhost:8080/"
        },
        "id": "TNDdVd3wYY8D",
        "outputId": "ac366246-a593-4831-daee-cc4e92cff9f5"
      },
      "source": [
        "df.isnull().sum()"
      ],
      "execution_count": 123,
      "outputs": [
        {
          "output_type": "execute_result",
          "data": {
            "text/plain": [
              "Loan_ID              0\n",
              "Gender               0\n",
              "Married              0\n",
              "Dependents           0\n",
              "Education            0\n",
              "Self_Employed        0\n",
              "ApplicantIncome      0\n",
              "CoapplicantIncome    0\n",
              "LoanAmount           0\n",
              "Loan_Amount_Term     0\n",
              "Credit_History       0\n",
              "Property_Area        0\n",
              "Loan_Status          0\n",
              "dtype: int64"
            ]
          },
          "metadata": {
            "tags": []
          },
          "execution_count": 123
        }
      ]
    },
    {
      "cell_type": "markdown",
      "metadata": {
        "id": "piXUhs4mYY8D"
      },
      "source": [
        "Observation: if we drop NAN the we losse lot of the data so we are filling "
      ]
    },
    {
      "cell_type": "code",
      "metadata": {
        "colab": {
          "base_uri": "https://localhost:8080/"
        },
        "id": "yOIMb1dlYY8E",
        "outputId": "54b7305c-4989-4033-cc7e-9cd00d91687f"
      },
      "source": [
        "df.shape"
      ],
      "execution_count": 124,
      "outputs": [
        {
          "output_type": "execute_result",
          "data": {
            "text/plain": [
              "(492, 13)"
            ]
          },
          "metadata": {
            "tags": []
          },
          "execution_count": 124
        }
      ]
    },
    {
      "cell_type": "code",
      "metadata": {
        "colab": {
          "base_uri": "https://localhost:8080/"
        },
        "id": "k_uDh5U4YY8F",
        "outputId": "a20cf0f9-10a1-4ff6-df53-4c117b04429c"
      },
      "source": [
        "df.isnull().sum()"
      ],
      "execution_count": 125,
      "outputs": [
        {
          "output_type": "execute_result",
          "data": {
            "text/plain": [
              "Loan_ID              0\n",
              "Gender               0\n",
              "Married              0\n",
              "Dependents           0\n",
              "Education            0\n",
              "Self_Employed        0\n",
              "ApplicantIncome      0\n",
              "CoapplicantIncome    0\n",
              "LoanAmount           0\n",
              "Loan_Amount_Term     0\n",
              "Credit_History       0\n",
              "Property_Area        0\n",
              "Loan_Status          0\n",
              "dtype: int64"
            ]
          },
          "metadata": {
            "tags": []
          },
          "execution_count": 125
        }
      ]
    },
    {
      "cell_type": "code",
      "metadata": {
        "colab": {
          "base_uri": "https://localhost:8080/",
          "height": 343
        },
        "id": "rbWc4x1RYY8F",
        "outputId": "3f8ddb92-8f59-4984-b4a4-19b6c2290403"
      },
      "source": [
        "print(df['Gender'].value_counts())\n",
        "sns.countplot(df['Gender'])"
      ],
      "execution_count": 126,
      "outputs": [
        {
          "output_type": "stream",
          "text": [
            "Male      403\n",
            "Female     89\n",
            "Name: Gender, dtype: int64\n"
          ],
          "name": "stdout"
        },
        {
          "output_type": "execute_result",
          "data": {
            "text/plain": [
              "<matplotlib.axes._subplots.AxesSubplot at 0x7f8c2dcd9d10>"
            ]
          },
          "metadata": {
            "tags": []
          },
          "execution_count": 126
        },
        {
          "output_type": "display_data",
          "data": {
            "image/png": "[encoded data removed]",
            "text/plain": [
              "<Figure size 432x288 with 1 Axes>"
            ]
          },
          "metadata": {
            "tags": [],
            "needs_background": "light"
          }
        }
      ]
    },
    {
      "cell_type": "markdown",
      "metadata": {
        "id": "8nQmdaSnYY8G"
      },
      "source": [
        "Observation: Male population is high in dataset compare to Female"
      ]
    },
    {
      "cell_type": "code",
      "metadata": {
        "colab": {
          "base_uri": "https://localhost:8080/",
          "height": 330
        },
        "id": "L0RXVUeGYY8G",
        "outputId": "536df0f7-c160-45c6-fc5e-fb0f2156115f"
      },
      "source": [
        "print(df['Loan_Status'].value_counts())\n",
        "sns.countplot(df['Loan_Status'])\n",
        "plt.show()"
      ],
      "execution_count": 127,
      "outputs": [
        {
          "output_type": "stream",
          "text": [
            "Y    338\n",
            "N    154\n",
            "Name: Loan_Status, dtype: int64\n"
          ],
          "name": "stdout"
        },
        {
          "output_type": "display_data",
          "data": {
            "image/png": "[encoded data removed]",
            "text/plain": [
              "<Figure size 432x288 with 1 Axes>"
            ]
          },
          "metadata": {
            "tags": [],
            "needs_background": "light"
          }
        }
      ]
    },
    {
      "cell_type": "markdown",
      "metadata": {
        "id": "vesLZZIdYY8G"
      },
      "source": [
        "Observation: Target variables have two classification \"Y\" and \"N\"  dataset is imbalnced need to treat "
      ]
    },
    {
      "cell_type": "code",
      "metadata": {
        "colab": {
          "base_uri": "https://localhost:8080/",
          "height": 330
        },
        "id": "ytPmHXBEYY8G",
        "outputId": "3a84b3fc-65cd-42e8-84c5-e1c8e6361d92"
      },
      "source": [
        "print(df['Education'].value_counts())\n",
        "df['Education'].value_counts(normalize=False).plot(kind='barh')"
      ],
      "execution_count": 128,
      "outputs": [
        {
          "output_type": "stream",
          "text": [
            "Graduate        389\n",
            "Not Graduate    103\n",
            "Name: Education, dtype: int64\n"
          ],
          "name": "stdout"
        },
        {
          "output_type": "execute_result",
          "data": {
            "text/plain": [
              "<matplotlib.axes._subplots.AxesSubplot at 0x7f8c32d28c10>"
            ]
          },
          "metadata": {
            "tags": []
          },
          "execution_count": 128
        },
        {
          "output_type": "display_data",
          "data": {
            "image/png": "[encoded data removed]",
            "text/plain": [
              "<Figure size 432x288 with 1 Axes>"
            ]
          },
          "metadata": {
            "tags": [],
            "needs_background": "light"
          }
        }
      ]
    },
    {
      "cell_type": "markdown",
      "metadata": {
        "id": "xYEOgEukYY8H"
      },
      "source": [
        "OBservation: Variable Education Have two classification in that Graduate is the highest population"
      ]
    },
    {
      "cell_type": "code",
      "metadata": {
        "colab": {
          "base_uri": "https://localhost:8080/",
          "height": 360
        },
        "id": "PKeEqfklYY8H",
        "outputId": "6eaf4858-1235-4898-ddae-73f213d909f3"
      },
      "source": [
        "print(df['Dependents'].value_counts())\n",
        "sns.countplot(df['Dependents'])\n",
        "plt.show()"
      ],
      "execution_count": 129,
      "outputs": [
        {
          "output_type": "stream",
          "text": [
            "0     284\n",
            "2      85\n",
            "1      81\n",
            "3+     42\n",
            "Name: Dependents, dtype: int64\n"
          ],
          "name": "stdout"
        },
        {
          "output_type": "display_data",
          "data": {
            "image/png": "[encoded data removed]",
            "text/plain": [
              "<Figure size 432x288 with 1 Axes>"
            ]
          },
          "metadata": {
            "tags": [],
            "needs_background": "light"
          }
        }
      ]
    },
    {
      "cell_type": "markdown",
      "metadata": {
        "id": "AUeoLcw7YY8H"
      },
      "source": [
        "Observation: Highest applicants not have any dependents perons on them  , applicants have higest dependents are 3+"
      ]
    },
    {
      "cell_type": "code",
      "metadata": {
        "colab": {
          "base_uri": "https://localhost:8080/",
          "height": 170
        },
        "id": "1wnsg2wyYY8I",
        "outputId": "36f2ba03-c106-4b0e-de59-504fe7543fa3"
      },
      "source": [
        "df.describe().T"
      ],
      "execution_count": 130,
      "outputs": [
        {
          "output_type": "execute_result",
          "data": {
            "text/html": [
              "<div>\n",
              "<style scoped>\n",
              "    .dataframe tbody tr th:only-of-type {\n",
              "        vertical-align: middle;\n",
              "    }\n",
              "\n",
              "    .dataframe tbody tr th {\n",
              "        vertical-align: top;\n",
              "    }\n",
              "\n",
              "    .dataframe thead th {\n",
              "        text-align: right;\n",
              "    }\n",
              "</style>\n",
              "<table border=\"1\" class=\"dataframe\">\n",
              "  <thead>\n",
              "    <tr style=\"text-align: right;\">\n",
              "      <th></th>\n",
              "      <th>count</th>\n",
              "      <th>mean</th>\n",
              "      <th>std</th>\n",
              "      <th>min</th>\n",
              "      <th>25%</th>\n",
              "      <th>50%</th>\n",
              "      <th>75%</th>\n",
              "      <th>max</th>\n",
              "    </tr>\n",
              "  </thead>\n",
              "  <tbody>\n",
              "    <tr>\n",
              "      <th>ApplicantIncome</th>\n",
              "      <td>492.0</td>\n",
              "      <td>5334.483740</td>\n",
              "      <td>5608.526089</td>\n",
              "      <td>150.0</td>\n",
              "      <td>2898.75</td>\n",
              "      <td>3858.5</td>\n",
              "      <td>5823.00</td>\n",
              "      <td>81000.0</td>\n",
              "    </tr>\n",
              "    <tr>\n",
              "      <th>CoapplicantIncome</th>\n",
              "      <td>492.0</td>\n",
              "      <td>1575.558780</td>\n",
              "      <td>2594.728627</td>\n",
              "      <td>0.0</td>\n",
              "      <td>0.00</td>\n",
              "      <td>1084.5</td>\n",
              "      <td>2259.25</td>\n",
              "      <td>33837.0</td>\n",
              "    </tr>\n",
              "    <tr>\n",
              "      <th>LoanAmount</th>\n",
              "      <td>492.0</td>\n",
              "      <td>144.136179</td>\n",
              "      <td>79.765056</td>\n",
              "      <td>9.0</td>\n",
              "      <td>100.00</td>\n",
              "      <td>128.0</td>\n",
              "      <td>170.00</td>\n",
              "      <td>600.0</td>\n",
              "    </tr>\n",
              "    <tr>\n",
              "      <th>Credit_History</th>\n",
              "      <td>492.0</td>\n",
              "      <td>0.845528</td>\n",
              "      <td>0.361768</td>\n",
              "      <td>0.0</td>\n",
              "      <td>1.00</td>\n",
              "      <td>1.0</td>\n",
              "      <td>1.00</td>\n",
              "      <td>1.0</td>\n",
              "    </tr>\n",
              "  </tbody>\n",
              "</table>\n",
              "</div>"
            ],
            "text/plain": [
              "                   count         mean          std  ...     50%      75%      max\n",
              "ApplicantIncome    492.0  5334.483740  5608.526089  ...  3858.5  5823.00  81000.0\n",
              "CoapplicantIncome  492.0  1575.558780  2594.728627  ...  1084.5  2259.25  33837.0\n",
              "LoanAmount         492.0   144.136179    79.765056  ...   128.0   170.00    600.0\n",
              "Credit_History     492.0     0.845528     0.361768  ...     1.0     1.00      1.0\n",
              "\n",
              "[4 rows x 8 columns]"
            ]
          },
          "metadata": {
            "tags": []
          },
          "execution_count": 130
        }
      ]
    },
    {
      "cell_type": "markdown",
      "metadata": {
        "id": "bxtCVj5UYY8I"
      },
      "source": [
        "Observation : \n",
        "1. Mean of the income is grater then the mode of the income\n",
        "2. Max and min value of the applicant income  have lot of differance may  include outliers in the column \n",
        "3. Count of the row are differnent each variable may have missing values "
      ]
    },
    {
      "cell_type": "code",
      "metadata": {
        "colab": {
          "base_uri": "https://localhost:8080/",
          "height": 282
        },
        "id": "4pB66b0RYY8J",
        "outputId": "0c85f276-cb08-48d5-b1ac-450ace2594f2"
      },
      "source": [
        "plt.scatter(df['Credit_History'],df['CoapplicantIncome'])"
      ],
      "execution_count": 131,
      "outputs": [
        {
          "output_type": "execute_result",
          "data": {
            "text/plain": [
              "<matplotlib.collections.PathCollection at 0x7f8c2dd063d0>"
            ]
          },
          "metadata": {
            "tags": []
          },
          "execution_count": 131
        },
        {
          "output_type": "display_data",
          "data": {
            "image/png": "[encoded data removed]",
            "text/plain": [
              "<Figure size 432x288 with 1 Axes>"
            ]
          },
          "metadata": {
            "tags": [],
            "needs_background": "light"
          }
        }
      ]
    },
    {
      "cell_type": "markdown",
      "metadata": {
        "id": "JpiqfAz8YY8J"
      },
      "source": [
        "Observation: We see clearly see that outliers in the dataset , he is making the 350000 income "
      ]
    },
    {
      "cell_type": "code",
      "metadata": {
        "id": "c5Y0ZB_JYY8J"
      },
      "source": [
        "#Encoding the Cateogorical variables \n",
        "#label encoding \n",
        "from sklearn.preprocessing import LabelEncoder \n",
        "le = LabelEncoder()\n",
        "\n",
        "#df = pd.get_dummies(df, columns=['Loan_Status'])\n",
        "#df = pd.get_dummies(df, columns=['Gender'])\n",
        "df['Loan_Status'] = le.fit_transform(df['Loan_Status'])\n",
        "df['Loan_ID'] = le.fit_transform(df['Loan_ID'])\n",
        "df['Gender'] = le.fit_transform(df['Gender'])\n",
        "df['Married'] = le.fit_transform(df['Married'])\n",
        "df['Dependents'] = le.fit_transform(df['Dependents'])\n",
        "df['Education'] = le.fit_transform(df['Education'])\n",
        "df['Self_Employed'] = le.fit_transform(df['Self_Employed'])\n",
        "df['Property_Area'] = le.fit_transform(df['Property_Area'])\n",
        "\n"
      ],
      "execution_count": 132,
      "outputs": []
    },
    {
      "cell_type": "code",
      "metadata": {
        "colab": {
          "base_uri": "https://localhost:8080/",
          "height": 572
        },
        "id": "bCYhXQntYY8K",
        "outputId": "f0344262-392d-4619-c716-a10f142f5151"
      },
      "source": [
        "#To check the corr_mat  Heatmap\n",
        "corr_hmap=df.corr()\n",
        "plt.figure(figsize=(10,8))\n",
        "sns.heatmap(corr_hmap, annot=True)\n",
        "plt.show()"
      ],
      "execution_count": 133,
      "outputs": [
        {
          "output_type": "display_data",
          "data": {
            "image/png": "[encoded data removed]",
            "text/plain": [
              "<Figure size 720x576 with 2 Axes>"
            ]
          },
          "metadata": {
            "tags": [],
            "needs_background": "light"
          }
        }
      ]
    },
    {
      "cell_type": "markdown",
      "metadata": {
        "id": "Aw8_fqhhYY8K"
      },
      "source": [
        "Observation: \n",
        "1. Variable credit history have positve relation with target variable Loan Status 55%\n",
        "2. Application income and loan amount have positive relation 50%\n"
      ]
    },
    {
      "cell_type": "code",
      "metadata": {
        "colab": {
          "base_uri": "https://localhost:8080/"
        },
        "id": "rQclaki-YY8L",
        "outputId": "dddb01cd-207d-4cde-bf1f-ad5122ec8e0b"
      },
      "source": [
        "#### to display the\n",
        "corr_matrix=df.corr()\n",
        "corr_matrix['Loan_Status'].sort_values(ascending = False)"
      ],
      "execution_count": 134,
      "outputs": [
        {
          "output_type": "execute_result",
          "data": {
            "text/plain": [
              "Loan_Status          1.000000\n",
              "Credit_History       0.548328\n",
              "Married              0.105763\n",
              "Gender               0.058554\n",
              "Loan_ID              0.039378\n",
              "Dependents           0.030149\n",
              "Property_Area        0.028517\n",
              "Self_Employed       -0.025923\n",
              "ApplicantIncome     -0.040528\n",
              "CoapplicantIncome   -0.045471\n",
              "LoanAmount          -0.064029\n",
              "Education           -0.072830\n",
              "Name: Loan_Status, dtype: float64"
            ]
          },
          "metadata": {
            "tags": []
          },
          "execution_count": 134
        }
      ]
    },
    {
      "cell_type": "markdown",
      "metadata": {
        "id": "iex7m8vvYY8L"
      },
      "source": [
        "Observation:\n",
        "1. Variables Credit_History, Married, Gender, Loan_ID, Dependents, Property_Area have the positive relation with target Variables \n",
        "\n",
        "2. Variables Self_Employed,ApplicantIncome, CoapplicantIncome,LoanAmount, Education negative relation with traget variables \n"
      ]
    },
    {
      "cell_type": "code",
      "metadata": {
        "colab": {
          "base_uri": "https://localhost:8080/"
        },
        "id": "0b3hY9ehYY8M",
        "outputId": "18a6dc16-7b1c-43f4-ffa6-415efc7c1b80"
      },
      "source": [
        "df.columns"
      ],
      "execution_count": 135,
      "outputs": [
        {
          "output_type": "execute_result",
          "data": {
            "text/plain": [
              "Index(['Loan_ID', 'Gender', 'Married', 'Dependents', 'Education',\n",
              "       'Self_Employed', 'ApplicantIncome', 'CoapplicantIncome', 'LoanAmount',\n",
              "       'Loan_Amount_Term', 'Credit_History', 'Property_Area', 'Loan_Status'],\n",
              "      dtype='object')"
            ]
          },
          "metadata": {
            "tags": []
          },
          "execution_count": 135
        }
      ]
    },
    {
      "cell_type": "code",
      "metadata": {
        "colab": {
          "base_uri": "https://localhost:8080/",
          "height": 803
        },
        "id": "xbz7LQZSYY8M",
        "outputId": "b8dbb52b-e8d1-47a5-f685-ea567359d9d6"
      },
      "source": [
        "columns =['ApplicantIncome', 'CoapplicantIncome','Credit_History']\n",
        "        \n",
        "for i in df[columns]:\n",
        "    plt.figure()\n",
        "    sns.distplot(df[i])"
      ],
      "execution_count": 136,
      "outputs": [
        {
          "output_type": "display_data",
          "data": {
            "image/png": "[encoded data removed]",
            "text/plain": [
              "<Figure size 432x288 with 1 Axes>"
            ]
          },
          "metadata": {
            "tags": [],
            "needs_background": "light"
          }
        },
        {
          "output_type": "display_data",
          "data": {
            "image/png": "[encoded data removed]",
            "text/plain": [
              "<Figure size 432x288 with 1 Axes>"
            ]
          },
          "metadata": {
            "tags": [],
            "needs_background": "light"
          }
        },
        {
          "output_type": "display_data",
          "data": {
            "image/png": "[encoded data removed]",
            "text/plain": [
              "<Figure size 432x288 with 1 Axes>"
            ]
          },
          "metadata": {
            "tags": [],
            "needs_background": "light"
          }
        }
      ]
    },
    {
      "cell_type": "markdown",
      "metadata": {
        "id": "54NN3L-4YY8M"
      },
      "source": [
        "Observation: Application income data is not distributed properly its Righ skewed, Co Applicant income "
      ]
    },
    {
      "cell_type": "code",
      "metadata": {
        "colab": {
          "base_uri": "https://localhost:8080/",
          "height": 803
        },
        "id": "qsd84sEgYY8N",
        "outputId": "4494f4a2-f582-4b9c-af3a-aeabebeade70"
      },
      "source": [
        "# with the help of box plot checking the outliers in data set \n",
        "for i in df[columns]:\n",
        "    plt.figure()\n",
        "    sns.boxplot(df[i])"
      ],
      "execution_count": 137,
      "outputs": [
        {
          "output_type": "display_data",
          "data": {
            "image/png": "[encoded data removed]",
            "text/plain": [
              "<Figure size 432x288 with 1 Axes>"
            ]
          },
          "metadata": {
            "tags": [],
            "needs_background": "light"
          }
        },
        {
          "output_type": "display_data",
          "data": {
            "image/png": "[encoded data removed]",
            "text/plain": [
              "<Figure size 432x288 with 1 Axes>"
            ]
          },
          "metadata": {
            "tags": [],
            "needs_background": "light"
          }
        },
        {
          "output_type": "display_data",
          "data": {
            "image/png": "[encoded data removed]",
            "text/plain": [
              "<Figure size 432x288 with 1 Axes>"
            ]
          },
          "metadata": {
            "tags": [],
            "needs_background": "light"
          }
        }
      ]
    },
    {
      "cell_type": "markdown",
      "metadata": {
        "id": "-HOPkTL8YY8N"
      },
      "source": [
        "Observation: \n",
        "Applicant income, co-applicant income variables have outliers "
      ]
    },
    {
      "cell_type": "code",
      "metadata": {
        "id": "fF6vmiSMYY8N"
      },
      "source": [
        "#Spliting the data into Feature variables (X) and target variables (y)\n",
        "x = df.drop(['Loan_Status'],axis=1)\n",
        "y = df['Loan_Status']"
      ],
      "execution_count": 138,
      "outputs": []
    },
    {
      "cell_type": "code",
      "metadata": {
        "id": "ruU3PJqaYY8O"
      },
      "source": [
        "# creating train test splits\n",
        "x_train,x_test,y_train,y_test = train_test_split(x,y,test_size=0.2,random_state=40)"
      ],
      "execution_count": 139,
      "outputs": []
    },
    {
      "cell_type": "code",
      "metadata": {
        "colab": {
          "base_uri": "https://localhost:8080/"
        },
        "id": "MyAiSjY1YY8O",
        "outputId": "52101dbc-75f7-49be-a92b-48cad2948a9f"
      },
      "source": [
        "#Over Sampling method\n",
        "\n",
        "from collections import Counter\n",
        "#import imblearn\n",
        "from imblearn import under_sampling, over_sampling\n",
        "from imblearn.over_sampling import SMOTE\n",
        "counter =Counter(y_train)\n",
        "print('Before', counter)\n",
        "\n",
        "smote = SMOTE()\n",
        "\n",
        "x_smote, y_smote = smote.fit_resample(x, y)\n",
        "\n",
        "counter =Counter(y_smote)\n",
        "print('after', counter)"
      ],
      "execution_count": 140,
      "outputs": [
        {
          "output_type": "stream",
          "text": [
            "Before Counter({1: 271, 0: 122})\n",
            "after Counter({0: 338, 1: 338})\n"
          ],
          "name": "stdout"
        }
      ]
    },
    {
      "cell_type": "code",
      "metadata": {
        "id": "46Iq8va8YY8O"
      },
      "source": [
        ""
      ],
      "execution_count": 140,
      "outputs": []
    },
    {
      "cell_type": "code",
      "metadata": {
        "colab": {
          "base_uri": "https://localhost:8080/"
        },
        "id": "IOJ84B3qYY8P",
        "outputId": "b222af54-9d3c-4cf1-ddd2-9416019e79ad"
      },
      "source": [
        "#decision Tree model \n",
        "from sklearn.tree import DecisionTreeClassifier\n",
        "\n",
        "dt=DecisionTreeClassifier()\n",
        "dt.fit(x_smote,y_smote)   #over sampled data using here\n",
        "#dt.fit(x_train,y_train)\n",
        "p=dt.predict(x_test)\n",
        "print(accuracy_score(y_test,p))\n"
      ],
      "execution_count": 141,
      "outputs": [
        {
          "output_type": "stream",
          "text": [
            "1.0\n"
          ],
          "name": "stdout"
        }
      ]
    },
    {
      "cell_type": "markdown",
      "metadata": {
        "id": "DWBYLLUKYY8P"
      },
      "source": [
        "Observation:\n",
        "1. Decsison Tree classification model accuracy we getting is :78.72%\n",
        "2. Decsison Tree classification model ovsersample balanced data we get accuracy is : 100%"
      ]
    },
    {
      "cell_type": "code",
      "metadata": {
        "colab": {
          "base_uri": "https://localhost:8080/"
        },
        "id": "iAsGi5ScYY8P",
        "outputId": "1f0a2e90-ae60-45b7-ae87-7991986c30d9"
      },
      "source": [
        "#logistic regression \n",
        "#Model building\n",
        "from sklearn.linear_model import LogisticRegression\n",
        "lg=LogisticRegression()\n",
        "#lg.fit(x_smote,y_smote)   #Over sampled data\n",
        "\n",
        "lg.fit(x_train,y_train)\n",
        "pred =lg.predict(x_test)\n",
        "\n",
        "print(pred)\n",
        "print(\"Accuracy_score\", accuracy_score(y_test,pred))"
      ],
      "execution_count": 142,
      "outputs": [
        {
          "output_type": "stream",
          "text": [
            "[1 1 1 0 1 1 1 0 1 1 1 0 1 1 1 1 1 1 1 1 1 1 1 1 1 1 1 0 1 1 1 1 1 1 1 1 1\n",
            " 1 1 0 1 0 1 0 1 0 1 1 0 1 1 1 1 0 1 1 0 1 1 1 1 1 1 1 1 1 1 1 0 1 1 1 1 1\n",
            " 1 1 1 1 1 1 1 1 1 1 0 1 1 1 1 1 1 1 1 1 1 1 1 1 1]\n",
            "Accuracy_score 0.8080808080808081\n"
          ],
          "name": "stdout"
        }
      ]
    },
    {
      "cell_type": "markdown",
      "metadata": {
        "id": "5ZwzD6otYY8T"
      },
      "source": [
        "Observation:\n",
        "1. Logestic regrestion model we get the accuracy rate: 80%  with imbalanced data\n",
        "2. Logestic regrestion model we get the accuracy rate: 77%  with balanced data\n"
      ]
    },
    {
      "cell_type": "code",
      "metadata": {
        "colab": {
          "base_uri": "https://localhost:8080/"
        },
        "id": "GpMU9LwsYY8T",
        "outputId": "07e3e91e-6bb6-42ec-f667-0faf5515c2c3"
      },
      "source": [
        "print(confusion_matrix(y_test,pred))\n",
        "print(classification_report(y_test, pred))"
      ],
      "execution_count": 143,
      "outputs": [
        {
          "output_type": "stream",
          "text": [
            "[[13 19]\n",
            " [ 0 67]]\n",
            "              precision    recall  f1-score   support\n",
            "\n",
            "           0       1.00      0.41      0.58        32\n",
            "           1       0.78      1.00      0.88        67\n",
            "\n",
            "    accuracy                           0.81        99\n",
            "   macro avg       0.89      0.70      0.73        99\n",
            "weighted avg       0.85      0.81      0.78        99\n",
            "\n"
          ],
          "name": "stdout"
        }
      ]
    },
    {
      "cell_type": "markdown",
      "metadata": {
        "id": "WAB-6JwgYY8T"
      },
      "source": [
        "Observation: Confusion matrix we getting, \n",
        "True Positive is : 13           True negative: 19\n",
        "False negative is : 0          True negative is: 67\n"
      ]
    },
    {
      "cell_type": "code",
      "metadata": {
        "id": "iDSbbV55YY8T"
      },
      "source": [
        "#AUC ROC CURVE\n",
        "from sklearn.metrics import roc_curve\n",
        "import matplotlib.pyplot as plt\n",
        "from sklearn.metrics import roc_auc_score"
      ],
      "execution_count": 144,
      "outputs": []
    },
    {
      "cell_type": "code",
      "metadata": {
        "colab": {
          "base_uri": "https://localhost:8080/"
        },
        "id": "eL-f4eWQYY8U",
        "outputId": "982eb493-7a67-4e18-cd2b-3482144622ed"
      },
      "source": [
        "y_pred_prob =lg.predict_proba(x_test)[:,1]\n",
        "y_pred_prob"
      ],
      "execution_count": 145,
      "outputs": [
        {
          "output_type": "execute_result",
          "data": {
            "text/plain": [
              "array([0.75931461, 0.73404016, 0.85227545, 0.39224042, 0.76848743,\n",
              "       0.86085545, 0.84658275, 0.17671817, 0.82869155, 0.74353968,\n",
              "       0.76150581, 0.1598507 , 0.79847619, 0.66465829, 0.80093034,\n",
              "       0.83815273, 0.83350512, 0.76749766, 0.85891537, 0.67577632,\n",
              "       0.85661343, 0.72364436, 0.81007331, 0.61361985, 0.50564075,\n",
              "       0.62790084, 0.84856957, 0.20987822, 0.74197005, 0.73479296,\n",
              "       0.81615685, 0.85902103, 0.87221901, 0.80669755, 0.87284107,\n",
              "       0.72856833, 0.75928464, 0.68250695, 0.83615691, 0.35804492,\n",
              "       0.64215132, 0.18990659, 0.78590218, 0.28083009, 0.51784279,\n",
              "       0.21895817, 0.65748426, 0.67636532, 0.20444359, 0.72075679,\n",
              "       0.84755838, 0.92961768, 0.93840213, 0.46269754, 0.84380846,\n",
              "       0.75593493, 0.28739794, 0.82199276, 0.94260742, 0.75261338,\n",
              "       0.84518586, 0.7937325 , 0.79966386, 0.74953479, 0.87258904,\n",
              "       0.65596816, 0.81696571, 0.65639583, 0.24642685, 0.76620443,\n",
              "       0.83951619, 0.75545613, 0.77014239, 0.77306403, 0.68208029,\n",
              "       0.80706746, 0.76125636, 0.92510909, 0.86560117, 0.82004712,\n",
              "       0.79795122, 0.9028679 , 0.60375597, 0.87700035, 0.2405849 ,\n",
              "       0.79835293, 0.73508776, 0.78889526, 0.872738  , 0.81078729,\n",
              "       0.72723957, 0.8563896 , 0.94145118, 0.87435113, 0.63217727,\n",
              "       0.64082327, 0.75795416, 0.86627299, 0.61372057])"
            ]
          },
          "metadata": {
            "tags": []
          },
          "execution_count": 145
        }
      ]
    },
    {
      "cell_type": "code",
      "metadata": {
        "id": "t4w-Wvx5YY8U"
      },
      "source": [
        "fpr,tpr,thresholds =roc_curve(y_test,y_pred_prob)"
      ],
      "execution_count": 146,
      "outputs": []
    },
    {
      "cell_type": "code",
      "metadata": {
        "colab": {
          "base_uri": "https://localhost:8080/"
        },
        "id": "6YY8m1XLYY8U",
        "outputId": "7b0b8156-1e2e-410f-f6f8-554af858311c"
      },
      "source": [
        "tpr"
      ],
      "execution_count": 147,
      "outputs": [
        {
          "output_type": "execute_result",
          "data": {
            "text/plain": [
              "array([0.        , 0.01492537, 0.05970149, 0.05970149, 0.07462687,\n",
              "       0.07462687, 0.13432836, 0.13432836, 0.20895522, 0.20895522,\n",
              "       0.23880597, 0.23880597, 0.26865672, 0.26865672, 0.28358209,\n",
              "       0.28358209, 0.34328358, 0.34328358, 0.37313433, 0.37313433,\n",
              "       0.46268657, 0.46268657, 0.73134328, 0.73134328, 0.79104478,\n",
              "       0.79104478, 0.85074627, 0.85074627, 0.89552239, 0.89552239,\n",
              "       0.97014925, 0.97014925, 0.98507463, 0.98507463, 1.        ,\n",
              "       1.        ])"
            ]
          },
          "metadata": {
            "tags": []
          },
          "execution_count": 147
        }
      ]
    },
    {
      "cell_type": "code",
      "metadata": {
        "colab": {
          "base_uri": "https://localhost:8080/"
        },
        "id": "wyB91H2ZYY8U",
        "outputId": "df3c1bf3-df8c-46b0-867a-b6397067e43d"
      },
      "source": [
        "thresholds"
      ],
      "execution_count": 148,
      "outputs": [
        {
          "output_type": "execute_result",
          "data": {
            "text/plain": [
              "array([1.94260742, 0.94260742, 0.92961768, 0.92510909, 0.9028679 ,\n",
              "       0.87700035, 0.87258904, 0.87221901, 0.85891537, 0.85661343,\n",
              "       0.85227545, 0.84856957, 0.84658275, 0.84380846, 0.83951619,\n",
              "       0.83815273, 0.82199276, 0.82004712, 0.81615685, 0.81078729,\n",
              "       0.79847619, 0.79835293, 0.74953479, 0.74353968, 0.73404016,\n",
              "       0.72856833, 0.68250695, 0.67636532, 0.65748426, 0.65639583,\n",
              "       0.62790084, 0.61372057, 0.61361985, 0.60375597, 0.51784279,\n",
              "       0.1598507 ])"
            ]
          },
          "metadata": {
            "tags": []
          },
          "execution_count": 148
        }
      ]
    },
    {
      "cell_type": "code",
      "metadata": {
        "colab": {
          "base_uri": "https://localhost:8080/",
          "height": 295
        },
        "id": "lPAzEb1QYY8U",
        "outputId": "5d84b382-5af2-4d61-bc94-4deefb205641"
      },
      "source": [
        "plt.plot([0,1],[0,1],'k--')\n",
        "plt.plot(fpr,tpr,label='Logistic Regression')\n",
        "plt.xlabel('Loan staus N ')\n",
        "plt.ylabel('Loan staus Y')\n",
        "plt.title('Losgistic Regression')\n",
        "plt.show()"
      ],
      "execution_count": 149,
      "outputs": [
        {
          "output_type": "display_data",
          "data": {
            "image/png": "[encoded data removed]",
            "text/plain": [
              "<Figure size 432x288 with 1 Axes>"
            ]
          },
          "metadata": {
            "tags": [],
            "needs_background": "light"
          }
        }
      ]
    },
    {
      "cell_type": "code",
      "metadata": {
        "id": "S-7FdbZIYY8V"
      },
      "source": [
        "#print(auc_score)"
      ],
      "execution_count": 150,
      "outputs": []
    },
    {
      "cell_type": "code",
      "metadata": {
        "colab": {
          "base_uri": "https://localhost:8080/"
        },
        "id": "Gy6F14XEYY8V",
        "outputId": "fc201cda-df1d-4095-e742-6eb3fe0d18c3"
      },
      "source": [
        "#cross validation\n",
        "from sklearn.model_selection import cross_val_score\n",
        "score=cross_val_score(dt, x,y, cv=5)\n",
        "print(score)\n",
        "print(score.mean())"
      ],
      "execution_count": 151,
      "outputs": [
        {
          "output_type": "stream",
          "text": [
            "[0.56565657 0.71717172 0.74489796 0.80612245 0.70408163]\n",
            "0.707586064728922\n"
          ],
          "name": "stdout"
        }
      ]
    },
    {
      "cell_type": "markdown",
      "metadata": {
        "id": "V40fLHktYY8V"
      },
      "source": [
        "We getting the cross validation  accuracy score is :52%"
      ]
    },
    {
      "cell_type": "code",
      "metadata": {
        "colab": {
          "base_uri": "https://localhost:8080/"
        },
        "id": "r1OfiGjhYY8V",
        "outputId": "5e10dcb2-86a3-4965-a9f4-e9984254b6e4"
      },
      "source": [
        "print(\"%0.2f accuracy with a standard deviation of %0.2f\" % (score.mean(), score.std()))"
      ],
      "execution_count": 152,
      "outputs": [
        {
          "output_type": "stream",
          "text": [
            "0.71 accuracy with a standard deviation of 0.08\n"
          ],
          "name": "stdout"
        }
      ]
    },
    {
      "cell_type": "markdown",
      "metadata": {
        "id": "SQihBZqhYY8W"
      },
      "source": [
        "RandomForest model"
      ]
    },
    {
      "cell_type": "code",
      "metadata": {
        "colab": {
          "base_uri": "https://localhost:8080/"
        },
        "id": "qn1kvT5HYY8W",
        "outputId": "63e55a38-2120-4359-d9a6-1519bae3f0e1"
      },
      "source": [
        "from sklearn.ensemble import RandomForestClassifier\n",
        "\n",
        "rf=RandomForestClassifier(n_estimators=100)\n",
        "rf.fit(x_smote, y_smote)  #balanced data\n",
        "#rf.fit(x_train, y_train)\n",
        "rf_pred =rf.predict(x_test)\n",
        "print('accuracy score', rf_pred)\n",
        "print(accuracy_score(y_test,rf_pred)) \n",
        "print(confusion_matrix(y_test,rf_pred))\n",
        "print(classification_report(y_test,rf_pred))"
      ],
      "execution_count": 153,
      "outputs": [
        {
          "output_type": "stream",
          "text": [
            "accuracy score [1 1 1 0 1 1 1 0 1 0 1 0 1 1 1 0 1 1 1 1 0 1 1 1 0 1 0 0 1 1 1 1 0 1 1 0 1\n",
            " 1 1 0 1 0 1 0 1 0 1 0 0 1 1 1 1 0 0 1 0 1 1 1 0 1 1 1 1 1 1 0 0 1 1 1 1 1\n",
            " 0 1 1 0 1 0 1 1 0 0 0 0 1 1 1 0 1 1 1 1 1 1 1 1 0]\n",
            "1.0\n",
            "[[32  0]\n",
            " [ 0 67]]\n",
            "              precision    recall  f1-score   support\n",
            "\n",
            "           0       1.00      1.00      1.00        32\n",
            "           1       1.00      1.00      1.00        67\n",
            "\n",
            "    accuracy                           1.00        99\n",
            "   macro avg       1.00      1.00      1.00        99\n",
            "weighted avg       1.00      1.00      1.00        99\n",
            "\n"
          ],
          "name": "stdout"
        }
      ]
    },
    {
      "cell_type": "markdown",
      "metadata": {
        "id": "48XkHWIQYY8W"
      },
      "source": [
        "Observation:\n",
        "1. we are getting the RandomForest model accuracy is 85% using imbalanced data \n",
        "2. we are getting the RandomForest model accuracy is 100% using balanced data"
      ]
    },
    {
      "cell_type": "code",
      "metadata": {
        "id": "PdDNKrR1YY8W"
      },
      "source": [
        "## SVM model"
      ],
      "execution_count": 154,
      "outputs": []
    },
    {
      "cell_type": "code",
      "metadata": {
        "colab": {
          "base_uri": "https://localhost:8080/"
        },
        "id": "aatQaZcSYY8X",
        "outputId": "efa14b9f-03cc-48c7-a8e9-0f1d3acc2144"
      },
      "source": [
        "#importing the svm model\n",
        "from sklearn.svm import SVC\n",
        "svclassifier = SVC(kernel='linear')\n",
        "svclassifier.fit(x_train, y_train)\n",
        "#svclassifier.fit(x_smote, y_smote)  #balanced data\n",
        "sv_pred = svclassifier.predict(x_test)\n",
        "print(accuracy_score(y_test,sv_pred))\n",
        "print(confusion_matrix(y_test,sv_pred))\n",
        "print(classification_report(y_test,sv_pred))"
      ],
      "execution_count": 155,
      "outputs": [
        {
          "output_type": "stream",
          "text": [
            "0.7878787878787878\n",
            "[[13 19]\n",
            " [ 2 65]]\n",
            "              precision    recall  f1-score   support\n",
            "\n",
            "           0       0.87      0.41      0.55        32\n",
            "           1       0.77      0.97      0.86        67\n",
            "\n",
            "    accuracy                           0.79        99\n",
            "   macro avg       0.82      0.69      0.71        99\n",
            "weighted avg       0.80      0.79      0.76        99\n",
            "\n"
          ],
          "name": "stdout"
        }
      ]
    },
    {
      "cell_type": "markdown",
      "metadata": {
        "id": "_o4-PjrnYY8X"
      },
      "source": [
        "Observation:\n",
        "1. we are getting SVM Model accuracy is 78%"
      ]
    },
    {
      "cell_type": "code",
      "metadata": {
        "id": "ldzH1pJ7YY8X"
      },
      "source": [
        ""
      ],
      "execution_count": 155,
      "outputs": []
    },
    {
      "cell_type": "code",
      "metadata": {
        "colab": {
          "base_uri": "https://localhost:8080/"
        },
        "id": "Yn1oKPv8YY8X",
        "outputId": "d7ac9fe4-148d-440f-aca5-492922fbfc86"
      },
      "source": [
        "#Grid Search\n",
        "from sklearn.metrics import precision_score,recall_score,f1_score\n",
        "from sklearn.model_selection import GridSearchCV\n",
        "clf = LogisticRegression()\n",
        "grid_values = {'penalty': ['l1', 'l2'],'C':[0.001,.009,0.01,.09,1,5,10,25]}\n",
        "grid_clf_acc = GridSearchCV(clf, param_grid = grid_values,scoring = 'recall')\n",
        "grid_clf_acc.fit(x_train, y_train)\n",
        "\n",
        "#Predict values based on new parameters\n",
        "y_pred_acc = grid_clf_acc.predict(x_test)\n",
        "\n",
        "# New Model Evaluation metrics \n",
        "print('Accuracy Score : ' + str(accuracy_score(y_test,y_pred_acc)))\n",
        "print('Precision Score : ' + str(precision_score(y_test,y_pred_acc)))\n",
        "print('Recall Score : ' + str(recall_score(y_test,y_pred_acc)))\n",
        "print('F1 Score : ' + str(f1_score(y_test,y_pred_acc)))\n",
        "\n",
        "#Logistic Regression (Grid Search) Confusion matrix\n",
        "confusion_matrix(y_test,y_pred_acc)"
      ],
      "execution_count": 156,
      "outputs": [
        {
          "output_type": "stream",
          "text": [
            "Accuracy Score : 0.6767676767676768\n",
            "Precision Score : 0.6767676767676768\n",
            "Recall Score : 1.0\n",
            "F1 Score : 0.8072289156626505\n"
          ],
          "name": "stdout"
        },
        {
          "output_type": "execute_result",
          "data": {
            "text/plain": [
              "array([[ 0, 32],\n",
              "       [ 0, 67]])"
            ]
          },
          "metadata": {
            "tags": []
          },
          "execution_count": 156
        }
      ]
    },
    {
      "cell_type": "markdown",
      "metadata": {
        "id": "M2XIFph_gByL"
      },
      "source": [
        "Observation: we getting the grid search accuracy score is 67%\n",
        "\n",
        "1. Precision Score : 67%\n",
        "2. Recall Score : 1.0%\n",
        "3. F1 Score : 80%"
      ]
    },
    {
      "cell_type": "markdown",
      "metadata": {
        "id": "HpV8_ESAYY8Y"
      },
      "source": [
        "#### --- Saving the Model----\n",
        "Random Forest and Decsion Tree classification model getting the highest accuarcy so we are saving the Random Forest model"
      ]
    },
    {
      "cell_type": "code",
      "metadata": {
        "id": "Ld9fI2SVYY8Y"
      },
      "source": [
        "from sklearn.externals import joblib\n",
        "\n",
        "# Save the model as a pickle in a file\n",
        "joblib.dump(rf, 'rf.pkl')\n",
        "  \n",
        "# Load the model from the file\n",
        "rf_joblib = joblib.load('rf.pkl') \n",
        "  \n",
        "# Use the loaded model to make predictions\n",
        "#rf_joblib.predict(x_test)"
      ],
      "execution_count": 158,
      "outputs": []
    },
    {
      "cell_type": "code",
      "metadata": {
        "id": "lZBQFDQdYY8Z"
      },
      "source": [
        ""
      ],
      "execution_count": 157,
      "outputs": []
    }
  ]
}